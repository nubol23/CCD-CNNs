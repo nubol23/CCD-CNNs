{
  "nbformat": 4,
  "nbformat_minor": 0,
  "metadata": {
    "kernelspec": {
      "display_name": "Python 3",
      "language": "python",
      "name": "python3"
    },
    "language_info": {
      "codemirror_mode": {
        "name": "ipython",
        "version": 3
      },
      "file_extension": ".py",
      "mimetype": "text/x-python",
      "name": "python",
      "nbconvert_exporter": "python",
      "pygments_lexer": "ipython3",
      "version": "3.8.5"
    },
    "colab": {
      "name": "Notebook-Gradient-and-Neuronal.ipynb",
      "provenance": []
    }
  },
  "cells": [
    {
      "cell_type": "markdown",
      "metadata": {
        "id": "2uDGJoKeYqsd"
      },
      "source": [
        "# 1) GRADIENT DESCENT"
      ]
    },
    {
      "cell_type": "code",
      "metadata": {
        "id": "lGQXFq4mYqsi"
      },
      "source": [
        "import numpy as np\n",
        "import matplotlib.pyplot as plt\n",
        "from mpl_toolkits.mplot3d import axes3d\n",
        "from matplotlib import cm\n",
        "# %matplotlib qt"
      ],
      "execution_count": null,
      "outputs": []
    },
    {
      "cell_type": "markdown",
      "metadata": {
        "id": "78NPQLl0Yqsj"
      },
      "source": [
        "## Funciones no convexa"
      ]
    },
    {
      "cell_type": "markdown",
      "metadata": {
        "id": "FSgMknGEYqsj"
      },
      "source": [
        "$$\n",
        "F(x,y)=\\sin \\left ( \\frac{1}{2}x^{2} -\\frac{1}{4}y^{2}+3 \\right )\\cos \\left ( 2x+1-e^{y} \\right )\n",
        "$$"
      ]
    },
    {
      "cell_type": "code",
      "metadata": {
        "id": "dl1mkVz6Yqsk"
      },
      "source": [
        "func1 = lambda th: np.sin(1 / 2* th[0] ** 2 -1 / 4 * th[1] ** 2 + 3) * np.cos(2 * th[0] + 1 - np.e ** th[1])"
      ],
      "execution_count": null,
      "outputs": []
    },
    {
      "cell_type": "markdown",
      "metadata": {
        "id": "aE635MMfYqsk"
      },
      "source": [
        "$$\n",
        "F\\left ( x,y \\right )=\\left ( x^{2}+y-11 \\right )^{2} + \\left ( x+y^{2}-7 \\right )^{2} \n",
        "$$"
      ]
    },
    {
      "cell_type": "code",
      "metadata": {
        "id": "pijBmkYNYqsk"
      },
      "source": [
        "func2 = lambda th: ((th[0]**2 + th[1] - 11)**2 + (th[0] + th[1]**2 - 7)**2)"
      ],
      "execution_count": null,
      "outputs": []
    },
    {
      "cell_type": "markdown",
      "metadata": {
        "id": "9vTVqMPdYqsl"
      },
      "source": [
        "## Funcion para graficar las funciones"
      ]
    },
    {
      "cell_type": "code",
      "metadata": {
        "id": "eYk94AubYqsl"
      },
      "source": [
        "def generate_graph(x_range, y_range, function, gradient=False, n_points=100):\n",
        "    \"\"\"\n",
        "    @Params\n",
        "        x_range  : Rango en el eje x\n",
        "        y_range  : Rango en el eje y\n",
        "        function : Funcion para graficar\n",
        "        gradient : lista de puntos por los cuales el algoritmo va descendiendo\n",
        "        n_points : numero de puntos para cada rango\n",
        "    \"\"\"\n",
        "    \n",
        "    # Generando los datos X e Y\n",
        "    _X = np.linspace(x_range[0], x_range[1], n_points)\n",
        "    _Y = np.linspace(y_range[0], y_range[1], n_points)\n",
        "    X, Y= np.meshgrid(_X,_Y)\n",
        "    \n",
        "    # Generando los datos de Z\n",
        "    Z = np.zeros((n_points,n_points))\n",
        "    for ix, x in enumerate(_X):\n",
        "        for iy, y in enumerate(_Y):\n",
        "            Z[iy, ix] = function([x,y])\n",
        "\n",
        "    # Creando la figura\n",
        "    fig = plt.figure(figsize=(20,20))\n",
        "    ax = fig.add_subplot(121, projection='3d')\n",
        "\n",
        "    # ax.plot_wireframe(X, Y, _Z, rstride=1, cstride=1, alpha=.5 )\n",
        "    ax.plot_surface(X, Y, Z, cmap='viridis', edgecolor='none',alpha=.8)\n",
        "    if gradient :\n",
        "        ax.plot(gradient[0], gradient[1], gradient[2], c='red', marker='o')\n",
        "    \n",
        "    # ax.plot_wireframe(X, Y, _Z)\n",
        "    ax.set_xlabel(\"X axis label\")\n",
        "    ax.set_ylabel(\"Y axis label\")\n",
        "    ax.set_zlabel(\"Z axis label\")\n",
        "    ax.set_xlim(x_range[0], x_range[1])\n",
        "    ax.set_ylim(y_range[0], x_range[1])\n",
        "    ax.set_zlim([np.min(Z),np.max(Z)])\n",
        "    \n",
        "    \n",
        "    ax2 = fig.add_subplot(122)\n",
        "    ax2.contourf(X, Y, Z,50,vmin=np.min(Z), vmax=(np.max(Z)), alpha=.8)\n",
        "    if gradient :\n",
        "        ax2.plot(gradient[0], gradient[1], marker=\"o\", c=\"red\")\n",
        "\n",
        "    plt.show()\n",
        "    return"
      ],
      "execution_count": null,
      "outputs": []
    },
    {
      "cell_type": "markdown",
      "metadata": {
        "id": "X8Y4dpTxYqsm"
      },
      "source": [
        "## Grafica de la funcion"
      ]
    },
    {
      "cell_type": "code",
      "metadata": {
        "id": "NPR69pL9Yqsm"
      },
      "source": [
        "generate_graph([-2,2],[-2,2],func1,False,100)"
      ],
      "execution_count": null,
      "outputs": []
    },
    {
      "cell_type": "code",
      "metadata": {
        "id": "xnWFDi5QYqsm"
      },
      "source": [
        "generate_graph([-6,6],[-6,6],func2,False,100)"
      ],
      "execution_count": null,
      "outputs": []
    },
    {
      "cell_type": "markdown",
      "metadata": {
        "id": "OarNaExuYqsm"
      },
      "source": [
        "## Algoritmo de Gradient Descent"
      ]
    },
    {
      "cell_type": "code",
      "metadata": {
        "id": "fJ8ocTUOYqsn"
      },
      "source": [
        "def gradient_descent(function, Theta, learning_rate=0.001, iterations=100000):\n",
        "\n",
        "    h = 0.001\n",
        "\n",
        "    \n",
        "    # Lista de puntos de\n",
        "    point_x = [Theta[0]]\n",
        "    point_y = [Theta[1]]\n",
        "    point_z = [function(Theta)]\n",
        "\n",
        "    \n",
        "    gradiente = np.zeros(2)\n",
        "\n",
        "    for _ in range(iterations):\n",
        "\n",
        "        for it, th in enumerate(Theta):            \n",
        "\n",
        "            # Incremento\n",
        "            _Theta = np.copy(Theta)\n",
        "            _Theta[it] = _Theta[it] + h\n",
        "\n",
        "            # Derivada\n",
        "            derivada = (function(_Theta) - function(Theta)) / h\n",
        "\n",
        "            # Gradiente\n",
        "            gradiente[it] = derivada\n",
        "\n",
        "        # Actualizar Theta\n",
        "        Theta = Theta - learning_rate * gradiente\n",
        "#         if int(input()) == 1:\n",
        "#             break\n",
        "        if(_ % 1000 == 0):\n",
        "#             info = \"Theta[0] = {}\\nTheta[1] = {}\\n\".format(Theta[0], Theta[1])\n",
        "#             print(info)\n",
        "            point_x.append(Theta[0])\n",
        "            point_y.append(Theta[1])\n",
        "            point_z.append(function(Theta))\n",
        "    \n",
        "    return point_x, point_y, point_z\n",
        "    \n",
        "    "
      ],
      "execution_count": null,
      "outputs": []
    },
    {
      "cell_type": "markdown",
      "metadata": {
        "id": "jrxs2JVZYqsn"
      },
      "source": [
        "## Graficando la funcion con los puntos obtenidos del GD"
      ]
    },
    {
      "cell_type": "markdown",
      "metadata": {
        "id": "3cJ-H2LNYqso"
      },
      "source": [
        "#### Funcion # 1"
      ]
    },
    {
      "cell_type": "code",
      "metadata": {
        "id": "5SuDCTlBYqso"
      },
      "source": [
        "g = gradient_descent(func1, [0,0], 0.001)"
      ],
      "execution_count": null,
      "outputs": []
    },
    {
      "cell_type": "code",
      "metadata": {
        "id": "qRHPmS5lYqso"
      },
      "source": [
        "generate_graph([-2.3,2.3],[-2.3,2.3],func1,g,100)"
      ],
      "execution_count": null,
      "outputs": []
    },
    {
      "cell_type": "markdown",
      "metadata": {
        "id": "ILe6wBcwYqso"
      },
      "source": [
        "#### Funcion # 2"
      ]
    },
    {
      "cell_type": "code",
      "metadata": {
        "id": "S547nhtVYqso"
      },
      "source": [
        "g = gradient_descent(func2, [5.9,5.8],0.005)"
      ],
      "execution_count": null,
      "outputs": []
    },
    {
      "cell_type": "code",
      "metadata": {
        "id": "igb060v1Yqsp"
      },
      "source": [
        "generate_graph([-6,6],[-6,6],func2,g,100)"
      ],
      "execution_count": null,
      "outputs": []
    },
    {
      "cell_type": "markdown",
      "metadata": {
        "id": "VIAPeMN9Yqsp"
      },
      "source": [
        "# 2) RED NEURONAL"
      ]
    },
    {
      "cell_type": "markdown",
      "metadata": {
        "id": "QCBtpShAYqsp"
      },
      "source": [
        "### LA NEURONA"
      ]
    },
    {
      "cell_type": "markdown",
      "metadata": {
        "id": "QO4kfTqWYqsp"
      },
      "source": [
        "![image.png](attachment:13569442-9409-4a85-bdd3-43798ee25e72.png)"
      ]
    },
    {
      "cell_type": "code",
      "metadata": {
        "id": "X-AuJ_phYqsq"
      },
      "source": [
        "import numpy as np\n",
        "import matplotlib.pyplot as plt\n",
        "\n",
        "from sklearn.datasets import make_circles"
      ],
      "execution_count": null,
      "outputs": []
    },
    {
      "cell_type": "code",
      "metadata": {
        "id": "Rx_-JpXeYqsq"
      },
      "source": [
        "X, Y = make_circles(n_samples=10, factor=0.5, noise=0.05)"
      ],
      "execution_count": null,
      "outputs": []
    },
    {
      "cell_type": "code",
      "metadata": {
        "id": "KkpgkIerYqsq",
        "outputId": "d886f580-f3ef-47f8-aac9-7de4c7667ff1"
      },
      "source": [
        "X, Y"
      ],
      "execution_count": null,
      "outputs": [
        {
          "output_type": "execute_result",
          "data": {
            "text/plain": [
              "(array([[ 0.57274179, -0.00298032],\n",
              "        [ 0.18298245,  0.40737939],\n",
              "        [ 0.32285947,  0.8779364 ],\n",
              "        [-0.4328979 , -0.28058602],\n",
              "        [ 1.05856706,  0.05457518],\n",
              "        [ 0.1000991 , -0.39176455],\n",
              "        [-0.75920526, -0.59745105],\n",
              "        [ 0.2323327 , -0.86226166],\n",
              "        [-0.77622541,  0.70762213],\n",
              "        [-0.43565337,  0.30642205]]),\n",
              " array([1, 1, 0, 1, 0, 1, 0, 0, 0, 1]))"
            ]
          },
          "metadata": {
            "tags": []
          },
          "execution_count": 20
        }
      ]
    },
    {
      "cell_type": "markdown",
      "metadata": {
        "id": "voCQ_CTuYqsr"
      },
      "source": [
        "### Generando un dataset"
      ]
    },
    {
      "cell_type": "code",
      "metadata": {
        "id": "a8JjU1VaYqsr"
      },
      "source": [
        "# Numero de datos a generar\n",
        "n = 500\n",
        "\n",
        "# Dimension de los datos\n",
        "p = 2\n",
        "\n",
        "# Generando datos \n",
        "X, Y = make_circles(n_samples=n, factor=0.5, noise=0.05)\n",
        "Y = Y[:, np.newaxis]\n"
      ],
      "execution_count": null,
      "outputs": []
    },
    {
      "cell_type": "markdown",
      "metadata": {
        "id": "XylPx_vPYqss"
      },
      "source": [
        "### Graficando el dataset"
      ]
    },
    {
      "cell_type": "code",
      "metadata": {
        "id": "6gQ-eZVZYqss",
        "outputId": "3f306c3b-8348-495b-bb66-d2e816a4a90f"
      },
      "source": [
        "plt.scatter(X[Y[:, 0] == 0, 0], X[Y[:, 0] == 0, 1], c=\"skyblue\")\n",
        "plt.scatter(X[Y[:, 0] == 1, 0], X[Y[:, 0] == 1, 1], c=\"salmon\")\n",
        "plt.axis(\"equal\")\n",
        "plt.show()\n"
      ],
      "execution_count": null,
      "outputs": [
        {
          "output_type": "display_data",
          "data": {
            "image/png": "[encoded data removed]",
            "text/plain": [
              "<Figure size 432x288 with 1 Axes>"
            ]
          },
          "metadata": {
            "tags": [],
            "needs_background": "light"
          }
        }
      ]
    },
    {
      "cell_type": "markdown",
      "metadata": {
        "id": "uvsudxX-Yqss"
      },
      "source": [
        "### Clase de la capa de la red"
      ]
    },
    {
      "cell_type": "code",
      "metadata": {
        "id": "um6PMRXaYqss"
      },
      "source": [
        "class neural_layer():\n",
        " \n",
        "    def __init__(self, n_conn, n_neur, act_f):\n",
        "        \n",
        "        # Funcion de activacion\n",
        "        self.act_f = act_f\n",
        "        \n",
        "        # Inicializando  b y W para la neurona en la capa\n",
        "        # con valores aleatorios entre -1 y 1 \n",
        "        self.b = np.random.rand(1, n_neur)      * 2 - 1\n",
        "        self.W = np.random.rand(n_conn, n_neur) * 2 - 1\n"
      ],
      "execution_count": null,
      "outputs": []
    },
    {
      "cell_type": "markdown",
      "metadata": {
        "id": "Ygncyi1IYqst"
      },
      "source": [
        "### Funciones de activacion"
      ]
    },
    {
      "cell_type": "markdown",
      "metadata": {
        "id": "7ZUPlswWYqst"
      },
      "source": [
        "![image.png](attachment:ce63e53a-e117-4673-ba41-4500ee75b9a1.png)"
      ]
    },
    {
      "cell_type": "markdown",
      "metadata": {
        "id": "wHXAfbspYqst"
      },
      "source": [
        "![image.png](attachment:b63e9726-77b1-476c-90ca-95c203cbdddb.png)"
      ]
    },
    {
      "cell_type": "code",
      "metadata": {
        "id": "4J6KBHJcYqst"
      },
      "source": [
        "sigm = (lambda x: 1 / (1 + np.e ** (-x)),\n",
        "        lambda x: x * (1 - x))\n",
        "\n",
        "tanh = (lambda x: (np.exp(x)-np.exp(-x))/(np.exp(x)+np.exp(-x)),\n",
        "       lambda x: 1-(np.exp(x)-np.exp(-x))/(np.exp(x)+np.exp(-x))**2)\n",
        "\n",
        "relu = (lambda x: np.maximum(0, x),\n",
        "       lambda x: (x > 0).astype(int))\n"
      ],
      "execution_count": null,
      "outputs": []
    },
    {
      "cell_type": "code",
      "metadata": {
        "id": "Uwa_7uEbYqst",
        "outputId": "7d599213-317d-4220-e8cb-30a56248cce0"
      },
      "source": [
        "# Visualizar las funciones de activacion\n",
        "_x = np.linspace(-5, 5, 100)\n",
        "plt.plot(_x, tanh[0](_x))"
      ],
      "execution_count": null,
      "outputs": [
        {
          "output_type": "execute_result",
          "data": {
            "text/plain": [
              "[<matplotlib.lines.Line2D at 0x7f06ec434940>]"
            ]
          },
          "metadata": {
            "tags": []
          },
          "execution_count": 25
        },
        {
          "output_type": "display_data",
          "data": {
            "image/png": "[encoded data removed]",
            "text/plain": [
              "<Figure size 432x288 with 1 Axes>"
            ]
          },
          "metadata": {
            "tags": [],
            "needs_background": "light"
          }
        }
      ]
    },
    {
      "cell_type": "markdown",
      "metadata": {
        "id": "WZnCq0-9Yqsu"
      },
      "source": [
        "### Creando una red neuronal"
      ]
    },
    {
      "cell_type": "markdown",
      "metadata": {
        "id": "d0oim48RYqsu"
      },
      "source": [
        "![image.png](attachment:92515f87-9d1e-4ce4-9cf6-d6c72ed8270c.png)"
      ]
    },
    {
      "cell_type": "code",
      "metadata": {
        "id": "yvMGkg0FYqsu"
      },
      "source": [
        "# Creando capa por capa\n",
        "l0 = neural_layer(p, 4, sigm)\n",
        "l1 = neural_layer(4, 8, sigm)"
      ],
      "execution_count": null,
      "outputs": []
    },
    {
      "cell_type": "code",
      "metadata": {
        "id": "8drkYBLWYqsu"
      },
      "source": [
        "def create_nn(topology, act_f):  \n",
        "    \n",
        "    # Lista que tendra todas las capas\n",
        "    # segun la topologia que especificamos\n",
        "    nn = []  \n",
        "    \n",
        "    for l, layer in enumerate(topology[:-1]):\n",
        "\n",
        "        nn.append(neural_layer(topology[l], topology[l+1], act_f))\n",
        "    \n",
        "    return nn"
      ],
      "execution_count": null,
      "outputs": []
    },
    {
      "cell_type": "markdown",
      "metadata": {
        "id": "tTPG-4V0Yqsv"
      },
      "source": [
        ""
      ]
    },
    {
      "cell_type": "code",
      "metadata": {
        "id": "Vx0UvC6xYqsv"
      },
      "source": [
        "topology = [2, 4, 2]\n",
        "neural_net = create_nn(topology, tanh)"
      ],
      "execution_count": null,
      "outputs": []
    },
    {
      "cell_type": "code",
      "metadata": {
        "id": "vFNHgZUsYqsv",
        "outputId": "93666432-fac3-4d17-c4f5-7c745708b29b"
      },
      "source": [
        "neural_net[0].b"
      ],
      "execution_count": null,
      "outputs": [
        {
          "output_type": "execute_result",
          "data": {
            "text/plain": [
              "array([[-0.65467301,  0.39813116,  0.86527256,  0.13705744]])"
            ]
          },
          "metadata": {
            "tags": []
          },
          "execution_count": 29
        }
      ]
    },
    {
      "cell_type": "markdown",
      "metadata": {
        "id": "LA7EJGVYYqsv"
      },
      "source": [
        "### Entrenamiento de la red neuronal"
      ]
    },
    {
      "cell_type": "markdown",
      "metadata": {
        "id": "xE6OU0b7Yqsw"
      },
      "source": [
        "![image.png](back.gif)!"
      ]
    },
    {
      "cell_type": "code",
      "metadata": {
        "id": "CVJDQDAFYqsw"
      },
      "source": [
        "def train(neural_net, X, Y, l2_cost, lr=0.5, train=True):\n",
        "  \n",
        "    out = [(None, X)]\n",
        "    \n",
        "    # Forward pass\n",
        "    for l, layer in enumerate(neural_net):\n",
        "  \n",
        "        z = out[-1][1] @ neural_net[l].W + neural_net[l].b\n",
        "        a = neural_net[l].act_f[0](z)\n",
        "\n",
        "        out.append((z, a))\n",
        "    \n",
        "  \n",
        "    if train:\n",
        "    \n",
        "        # Backward pass \n",
        "        deltas = []\n",
        "\n",
        "        for l in reversed(range(0, len(neural_net))): \n",
        "\n",
        "            z = out[l+1][0]\n",
        "            a = out[l+1][1]\n",
        "            \n",
        "            # si Ultima capa\n",
        "            if l == len(neural_net) - 1:\n",
        "                deltas.insert(0, l2_cost[1](a, Y) * neural_net[l].act_f[1](a))\n",
        "            else:\n",
        "                deltas.insert(0, deltas[0] @ _W.T * neural_net[l].act_f[1](a))\n",
        "\n",
        "            _W = neural_net[l].W\n",
        "\n",
        "            # Gradient descent\n",
        "            neural_net[l].b = neural_net[l].b - np.mean(deltas[0], axis=0, keepdims=True) * lr   \n",
        "            neural_net[l].W = neural_net[l].W - out[l][1].T @ deltas[0] * lr\n",
        "      \n",
        "    return out[-1][1]\n"
      ],
      "execution_count": null,
      "outputs": []
    },
    {
      "cell_type": "markdown",
      "metadata": {
        "id": "gTBCNFAuYqsw"
      },
      "source": [
        "![image.png](attachment:34bdebe5-a658-437d-996c-3a96cf3887e7.png)"
      ]
    },
    {
      "cell_type": "code",
      "metadata": {
        "id": "2iD8fPnvYqsw"
      },
      "source": [
        "l2_cost = (lambda Yp, Yr: np.mean((Yp - Yr) ** 2),\n",
        "           lambda Yp, Yr: (Yp - Yr))"
      ],
      "execution_count": null,
      "outputs": []
    },
    {
      "cell_type": "code",
      "metadata": {
        "id": "9vTjlqyXYqsx"
      },
      "source": [
        "topology = [2,4,2]\n",
        "neural_net = create_nn(topology, sigm)\n"
      ],
      "execution_count": null,
      "outputs": []
    },
    {
      "cell_type": "code",
      "metadata": {
        "id": "demcj77GYqsx"
      },
      "source": [
        "for i in range(2500):\n",
        "    a = train(neural_net, X, Y, l2_cost, 0.05)"
      ],
      "execution_count": null,
      "outputs": []
    },
    {
      "cell_type": "code",
      "metadata": {
        "id": "b5W0SrboYqsx",
        "outputId": "3a968206-6b08-41b2-d8e6-5bc09150625c"
      },
      "source": [
        "l2_cost[0](a,Y)"
      ],
      "execution_count": null,
      "outputs": [
        {
          "output_type": "execute_result",
          "data": {
            "text/plain": [
              "0.02289621766386312"
            ]
          },
          "metadata": {
            "tags": []
          },
          "execution_count": 34
        }
      ]
    },
    {
      "cell_type": "markdown",
      "metadata": {
        "id": "Fg-4FdzyYqsz"
      },
      "source": [
        "### Visualizacion del entrenamiento y el error"
      ]
    },
    {
      "cell_type": "code",
      "metadata": {
        "id": "eINOEP_yYqsz",
        "outputId": "2cb6bd6f-2e18-4737-aefb-7c214052eff9"
      },
      "source": [
        "t = [2, 4, 8, 1]\n",
        "topology = [2,4,2]\n",
        "import time\n",
        "from IPython.display import clear_output\n",
        "\n",
        "neural_n = create_nn(topology, sigm)\n",
        "\n",
        "loss = []\n",
        "\n",
        "for i in range(2500):\n",
        "    \n",
        "    # Entrenemos a la red!\n",
        "    pY = train(neural_n, X, Y, l2_cost, lr=0.05)\n",
        "  \n",
        "    if i % 25 == 0:        \n",
        "#         print(pY)\n",
        "\n",
        "        loss.append(l2_cost[0](pY, Y))\n",
        "\n",
        "        res = 50\n",
        "\n",
        "        _x0 = np.linspace(-1.5, 1.5, res)\n",
        "        _x1 = np.linspace(-1.5, 1.5, res)\n",
        "\n",
        "        _Y = np.zeros((res, res))\n",
        "\n",
        "        for i0, x0 in enumerate(_x0):\n",
        "            for i1, x1 in enumerate(_x1):\n",
        "                _Y[i0, i1] = train(neural_n, np.array([[x0, x1]]), Y, l2_cost, train=False)[0][0]    \n",
        "\n",
        "        plt.pcolormesh(_x0, _x1, _Y, cmap=\"coolwarm\")\n",
        "        plt.axis(\"equal\")\n",
        "\n",
        "        plt.scatter(X[Y[:,0] == 0, 0], X[Y[:,0] == 0, 1], c=\"skyblue\")\n",
        "        plt.scatter(X[Y[:,0] == 1, 0], X[Y[:,0] == 1, 1], c=\"salmon\")\n",
        "\n",
        "        clear_output(wait=True)\n",
        "        plt.show()\n",
        "        plt.plot(range(len(loss)), loss)\n",
        "        plt.show()\n",
        "        time.sleep(0.5)"
      ],
      "execution_count": null,
      "outputs": [
        {
          "output_type": "display_data",
          "data": {
            "image/png": "[encoded data removed]",
            "text/plain": [
              "<Figure size 432x288 with 1 Axes>"
            ]
          },
          "metadata": {
            "tags": [],
            "needs_background": "light"
          }
        },
        {
          "output_type": "display_data",
          "data": {
            "image/png": "[encoded data removed]",
            "text/plain": [
              "<Figure size 432x288 with 1 Axes>"
            ]
          },
          "metadata": {
            "tags": [],
            "needs_background": "light"
          }
        }
      ]
    },
    {
      "cell_type": "code",
      "metadata": {
        "id": "LmHX4ngWYqsz"
      },
      "source": [
        ""
      ],
      "execution_count": null,
      "outputs": []
    }
  ]
}