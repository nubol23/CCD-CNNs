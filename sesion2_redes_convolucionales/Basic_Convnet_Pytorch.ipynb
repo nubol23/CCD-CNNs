{
  "nbformat": 4,
  "nbformat_minor": 0,
  "metadata": {
    "colab": {
      "name": "Basic_Convnet_Pytorch.ipynb",
      "provenance": [],
      "collapsed_sections": []
    },
    "kernelspec": {
      "name": "python3",
      "display_name": "Python 3"
    },
    "accelerator": "GPU",
    "widgets": {
      "application/vnd.jupyter.widget-state+json": {
        "8b60d3f155b34396bcd4806b404254fa": {
          "model_module": "@jupyter-widgets/controls",
          "model_name": "HBoxModel",
          "state": {
            "_view_name": "HBoxView",
            "_dom_classes": [],
            "_model_name": "HBoxModel",
            "_view_module": "@jupyter-widgets/controls",
            "_model_module_version": "1.5.0",
            "_view_count": null,
            "_view_module_version": "1.5.0",
            "box_style": "",
            "layout": "IPY_MODEL_d2ab0231622443fc937f50266e961251",
            "_model_module": "@jupyter-widgets/controls",
            "children": [
              "IPY_MODEL_6db4188e1b4b474d842372cccc175f58",
              "IPY_MODEL_4fd03ecbd1a74ada96f2b4e5b20e0277"
            ]
          }
        },
        "d2ab0231622443fc937f50266e961251": {
          "model_module": "@jupyter-widgets/base",
          "model_name": "LayoutModel",
          "state": {
            "_view_name": "LayoutView",
            "grid_template_rows": null,
            "right": null,
            "justify_content": null,
            "_view_module": "@jupyter-widgets/base",
            "overflow": null,
            "_model_module_version": "1.2.0",
            "_view_count": null,
            "flex_flow": null,
            "width": null,
            "min_width": null,
            "border": null,
            "align_items": null,
            "bottom": null,
            "_model_module": "@jupyter-widgets/base",
            "top": null,
            "grid_column": null,
            "overflow_y": null,
            "overflow_x": null,
            "grid_auto_flow": null,
            "grid_area": null,
            "grid_template_columns": null,
            "flex": null,
            "_model_name": "LayoutModel",
            "justify_items": null,
            "grid_row": null,
            "max_height": null,
            "align_content": null,
            "visibility": null,
            "align_self": null,
            "height": null,
            "min_height": null,
            "padding": null,
            "grid_auto_rows": null,
            "grid_gap": null,
            "max_width": null,
            "order": null,
            "_view_module_version": "1.2.0",
            "grid_template_areas": null,
            "object_position": null,
            "object_fit": null,
            "grid_auto_columns": null,
            "margin": null,
            "display": null,
            "left": null
          }
        },
        "6db4188e1b4b474d842372cccc175f58": {
          "model_module": "@jupyter-widgets/controls",
          "model_name": "FloatProgressModel",
          "state": {
            "_view_name": "ProgressView",
            "style": "IPY_MODEL_3c70f4e279f74ba1b116229b3cf75e1b",
            "_dom_classes": [],
            "description": "",
            "_model_name": "FloatProgressModel",
            "bar_style": "success",
            "max": 1,
            "_view_module": "@jupyter-widgets/controls",
            "_model_module_version": "1.5.0",
            "value": 1,
            "_view_count": null,
            "_view_module_version": "1.5.0",
            "orientation": "horizontal",
            "min": 0,
            "description_tooltip": null,
            "_model_module": "@jupyter-widgets/controls",
            "layout": "IPY_MODEL_41a9a842878a4cab89bcdc9c5515740f"
          }
        },
        "4fd03ecbd1a74ada96f2b4e5b20e0277": {
          "model_module": "@jupyter-widgets/controls",
          "model_name": "HTMLModel",
          "state": {
            "_view_name": "HTMLView",
            "style": "IPY_MODEL_c52086ca885c499689b87510ad3e8f11",
            "_dom_classes": [],
            "description": "",
            "_model_name": "HTMLModel",
            "placeholder": "​",
            "_view_module": "@jupyter-widgets/controls",
            "_model_module_version": "1.5.0",
            "value": " 9920512/? [00:01&lt;00:00, 7749091.03it/s]",
            "_view_count": null,
            "_view_module_version": "1.5.0",
            "description_tooltip": null,
            "_model_module": "@jupyter-widgets/controls",
            "layout": "IPY_MODEL_e323b2455b694884bf10bf953e038695"
          }
        },
        "3c70f4e279f74ba1b116229b3cf75e1b": {
          "model_module": "@jupyter-widgets/controls",
          "model_name": "ProgressStyleModel",
          "state": {
            "_view_name": "StyleView",
            "_model_name": "ProgressStyleModel",
            "description_width": "initial",
            "_view_module": "@jupyter-widgets/base",
            "_model_module_version": "1.5.0",
            "_view_count": null,
            "_view_module_version": "1.2.0",
            "bar_color": null,
            "_model_module": "@jupyter-widgets/controls"
          }
        },
        "41a9a842878a4cab89bcdc9c5515740f": {
          "model_module": "@jupyter-widgets/base",
          "model_name": "LayoutModel",
          "state": {
            "_view_name": "LayoutView",
            "grid_template_rows": null,
            "right": null,
            "justify_content": null,
            "_view_module": "@jupyter-widgets/base",
            "overflow": null,
            "_model_module_version": "1.2.0",
            "_view_count": null,
            "flex_flow": null,
            "width": null,
            "min_width": null,
            "border": null,
            "align_items": null,
            "bottom": null,
            "_model_module": "@jupyter-widgets/base",
            "top": null,
            "grid_column": null,
            "overflow_y": null,
            "overflow_x": null,
            "grid_auto_flow": null,
            "grid_area": null,
            "grid_template_columns": null,
            "flex": null,
            "_model_name": "LayoutModel",
            "justify_items": null,
            "grid_row": null,
            "max_height": null,
            "align_content": null,
            "visibility": null,
            "align_self": null,
            "height": null,
            "min_height": null,
            "padding": null,
            "grid_auto_rows": null,
            "grid_gap": null,
            "max_width": null,
            "order": null,
            "_view_module_version": "1.2.0",
            "grid_template_areas": null,
            "object_position": null,
            "object_fit": null,
            "grid_auto_columns": null,
            "margin": null,
            "display": null,
            "left": null
          }
        },
        "c52086ca885c499689b87510ad3e8f11": {
          "model_module": "@jupyter-widgets/controls",
          "model_name": "DescriptionStyleModel",
          "state": {
            "_view_name": "StyleView",
            "_model_name": "DescriptionStyleModel",
            "description_width": "",
            "_view_module": "@jupyter-widgets/base",
            "_model_module_version": "1.5.0",
            "_view_count": null,
            "_view_module_version": "1.2.0",
            "_model_module": "@jupyter-widgets/controls"
          }
        },
        "e323b2455b694884bf10bf953e038695": {
          "model_module": "@jupyter-widgets/base",
          "model_name": "LayoutModel",
          "state": {
            "_view_name": "LayoutView",
            "grid_template_rows": null,
            "right": null,
            "justify_content": null,
            "_view_module": "@jupyter-widgets/base",
            "overflow": null,
            "_model_module_version": "1.2.0",
            "_view_count": null,
            "flex_flow": null,
            "width": null,
            "min_width": null,
            "border": null,
            "align_items": null,
            "bottom": null,
            "_model_module": "@jupyter-widgets/base",
            "top": null,
            "grid_column": null,
            "overflow_y": null,
            "overflow_x": null,
            "grid_auto_flow": null,
            "grid_area": null,
            "grid_template_columns": null,
            "flex": null,
            "_model_name": "LayoutModel",
            "justify_items": null,
            "grid_row": null,
            "max_height": null,
            "align_content": null,
            "visibility": null,
            "align_self": null,
            "height": null,
            "min_height": null,
            "padding": null,
            "grid_auto_rows": null,
            "grid_gap": null,
            "max_width": null,
            "order": null,
            "_view_module_version": "1.2.0",
            "grid_template_areas": null,
            "object_position": null,
            "object_fit": null,
            "grid_auto_columns": null,
            "margin": null,
            "display": null,
            "left": null
          }
        },
        "7afbd15eeda54edca467c87776041eb1": {
          "model_module": "@jupyter-widgets/controls",
          "model_name": "HBoxModel",
          "state": {
            "_view_name": "HBoxView",
            "_dom_classes": [],
            "_model_name": "HBoxModel",
            "_view_module": "@jupyter-widgets/controls",
            "_model_module_version": "1.5.0",
            "_view_count": null,
            "_view_module_version": "1.5.0",
            "box_style": "",
            "layout": "IPY_MODEL_74b02fa14eb1468a957ec8703e00c607",
            "_model_module": "@jupyter-widgets/controls",
            "children": [
              "IPY_MODEL_6b7cb0bee80d4d3cbb8866e00728e329",
              "IPY_MODEL_0633ec693a33489cb6d3071a9f254773"
            ]
          }
        },
        "74b02fa14eb1468a957ec8703e00c607": {
          "model_module": "@jupyter-widgets/base",
          "model_name": "LayoutModel",
          "state": {
            "_view_name": "LayoutView",
            "grid_template_rows": null,
            "right": null,
            "justify_content": null,
            "_view_module": "@jupyter-widgets/base",
            "overflow": null,
            "_model_module_version": "1.2.0",
            "_view_count": null,
            "flex_flow": null,
            "width": null,
            "min_width": null,
            "border": null,
            "align_items": null,
            "bottom": null,
            "_model_module": "@jupyter-widgets/base",
            "top": null,
            "grid_column": null,
            "overflow_y": null,
            "overflow_x": null,
            "grid_auto_flow": null,
            "grid_area": null,
            "grid_template_columns": null,
            "flex": null,
            "_model_name": "LayoutModel",
            "justify_items": null,
            "grid_row": null,
            "max_height": null,
            "align_content": null,
            "visibility": null,
            "align_self": null,
            "height": null,
            "min_height": null,
            "padding": null,
            "grid_auto_rows": null,
            "grid_gap": null,
            "max_width": null,
            "order": null,
            "_view_module_version": "1.2.0",
            "grid_template_areas": null,
            "object_position": null,
            "object_fit": null,
            "grid_auto_columns": null,
            "margin": null,
            "display": null,
            "left": null
          }
        },
        "6b7cb0bee80d4d3cbb8866e00728e329": {
          "model_module": "@jupyter-widgets/controls",
          "model_name": "FloatProgressModel",
          "state": {
            "_view_name": "ProgressView",
            "style": "IPY_MODEL_d9fd7751de0c4c479036dc0a0a4630ea",
            "_dom_classes": [],
            "description": "",
            "_model_name": "FloatProgressModel",
            "bar_style": "success",
            "max": 1,
            "_view_module": "@jupyter-widgets/controls",
            "_model_module_version": "1.5.0",
            "value": 1,
            "_view_count": null,
            "_view_module_version": "1.5.0",
            "orientation": "horizontal",
            "min": 0,
            "description_tooltip": null,
            "_model_module": "@jupyter-widgets/controls",
            "layout": "IPY_MODEL_55edf68372164bbdbb6460eb3ccddb4d"
          }
        },
        "0633ec693a33489cb6d3071a9f254773": {
          "model_module": "@jupyter-widgets/controls",
          "model_name": "HTMLModel",
          "state": {
            "_view_name": "HTMLView",
            "style": "IPY_MODEL_f2b00274e9f14ad59f1f55fa543f9377",
            "_dom_classes": [],
            "description": "",
            "_model_name": "HTMLModel",
            "placeholder": "​",
            "_view_module": "@jupyter-widgets/controls",
            "_model_module_version": "1.5.0",
            "value": " 32768/? [00:00&lt;00:00, 50069.88it/s]",
            "_view_count": null,
            "_view_module_version": "1.5.0",
            "description_tooltip": null,
            "_model_module": "@jupyter-widgets/controls",
            "layout": "IPY_MODEL_f2d91938c9d7402ca38c5b26c6a69bc3"
          }
        },
        "d9fd7751de0c4c479036dc0a0a4630ea": {
          "model_module": "@jupyter-widgets/controls",
          "model_name": "ProgressStyleModel",
          "state": {
            "_view_name": "StyleView",
            "_model_name": "ProgressStyleModel",
            "description_width": "initial",
            "_view_module": "@jupyter-widgets/base",
            "_model_module_version": "1.5.0",
            "_view_count": null,
            "_view_module_version": "1.2.0",
            "bar_color": null,
            "_model_module": "@jupyter-widgets/controls"
          }
        },
        "55edf68372164bbdbb6460eb3ccddb4d": {
          "model_module": "@jupyter-widgets/base",
          "model_name": "LayoutModel",
          "state": {
            "_view_name": "LayoutView",
            "grid_template_rows": null,
            "right": null,
            "justify_content": null,
            "_view_module": "@jupyter-widgets/base",
            "overflow": null,
            "_model_module_version": "1.2.0",
            "_view_count": null,
            "flex_flow": null,
            "width": null,
            "min_width": null,
            "border": null,
            "align_items": null,
            "bottom": null,
            "_model_module": "@jupyter-widgets/base",
            "top": null,
            "grid_column": null,
            "overflow_y": null,
            "overflow_x": null,
            "grid_auto_flow": null,
            "grid_area": null,
            "grid_template_columns": null,
            "flex": null,
            "_model_name": "LayoutModel",
            "justify_items": null,
            "grid_row": null,
            "max_height": null,
            "align_content": null,
            "visibility": null,
            "align_self": null,
            "height": null,
            "min_height": null,
            "padding": null,
            "grid_auto_rows": null,
            "grid_gap": null,
            "max_width": null,
            "order": null,
            "_view_module_version": "1.2.0",
            "grid_template_areas": null,
            "object_position": null,
            "object_fit": null,
            "grid_auto_columns": null,
            "margin": null,
            "display": null,
            "left": null
          }
        },
        "f2b00274e9f14ad59f1f55fa543f9377": {
          "model_module": "@jupyter-widgets/controls",
          "model_name": "DescriptionStyleModel",
          "state": {
            "_view_name": "StyleView",
            "_model_name": "DescriptionStyleModel",
            "description_width": "",
            "_view_module": "@jupyter-widgets/base",
            "_model_module_version": "1.5.0",
            "_view_count": null,
            "_view_module_version": "1.2.0",
            "_model_module": "@jupyter-widgets/controls"
          }
        },
        "f2d91938c9d7402ca38c5b26c6a69bc3": {
          "model_module": "@jupyter-widgets/base",
          "model_name": "LayoutModel",
          "state": {
            "_view_name": "LayoutView",
            "grid_template_rows": null,
            "right": null,
            "justify_content": null,
            "_view_module": "@jupyter-widgets/base",
            "overflow": null,
            "_model_module_version": "1.2.0",
            "_view_count": null,
            "flex_flow": null,
            "width": null,
            "min_width": null,
            "border": null,
            "align_items": null,
            "bottom": null,
            "_model_module": "@jupyter-widgets/base",
            "top": null,
            "grid_column": null,
            "overflow_y": null,
            "overflow_x": null,
            "grid_auto_flow": null,
            "grid_area": null,
            "grid_template_columns": null,
            "flex": null,
            "_model_name": "LayoutModel",
            "justify_items": null,
            "grid_row": null,
            "max_height": null,
            "align_content": null,
            "visibility": null,
            "align_self": null,
            "height": null,
            "min_height": null,
            "padding": null,
            "grid_auto_rows": null,
            "grid_gap": null,
            "max_width": null,
            "order": null,
            "_view_module_version": "1.2.0",
            "grid_template_areas": null,
            "object_position": null,
            "object_fit": null,
            "grid_auto_columns": null,
            "margin": null,
            "display": null,
            "left": null
          }
        },
        "443f9d41d40b4bae823bb11cdb1ce963": {
          "model_module": "@jupyter-widgets/controls",
          "model_name": "HBoxModel",
          "state": {
            "_view_name": "HBoxView",
            "_dom_classes": [],
            "_model_name": "HBoxModel",
            "_view_module": "@jupyter-widgets/controls",
            "_model_module_version": "1.5.0",
            "_view_count": null,
            "_view_module_version": "1.5.0",
            "box_style": "",
            "layout": "IPY_MODEL_ff4745806b4f4f41a14f3e710ba08f90",
            "_model_module": "@jupyter-widgets/controls",
            "children": [
              "IPY_MODEL_cedbba7a3e0f4853bc7c57eb5e7040f7",
              "IPY_MODEL_3d54d5503f934a1888e8cec9ad5da4bc"
            ]
          }
        },
        "ff4745806b4f4f41a14f3e710ba08f90": {
          "model_module": "@jupyter-widgets/base",
          "model_name": "LayoutModel",
          "state": {
            "_view_name": "LayoutView",
            "grid_template_rows": null,
            "right": null,
            "justify_content": null,
            "_view_module": "@jupyter-widgets/base",
            "overflow": null,
            "_model_module_version": "1.2.0",
            "_view_count": null,
            "flex_flow": null,
            "width": null,
            "min_width": null,
            "border": null,
            "align_items": null,
            "bottom": null,
            "_model_module": "@jupyter-widgets/base",
            "top": null,
            "grid_column": null,
            "overflow_y": null,
            "overflow_x": null,
            "grid_auto_flow": null,
            "grid_area": null,
            "grid_template_columns": null,
            "flex": null,
            "_model_name": "LayoutModel",
            "justify_items": null,
            "grid_row": null,
            "max_height": null,
            "align_content": null,
            "visibility": null,
            "align_self": null,
            "height": null,
            "min_height": null,
            "padding": null,
            "grid_auto_rows": null,
            "grid_gap": null,
            "max_width": null,
            "order": null,
            "_view_module_version": "1.2.0",
            "grid_template_areas": null,
            "object_position": null,
            "object_fit": null,
            "grid_auto_columns": null,
            "margin": null,
            "display": null,
            "left": null
          }
        },
        "cedbba7a3e0f4853bc7c57eb5e7040f7": {
          "model_module": "@jupyter-widgets/controls",
          "model_name": "FloatProgressModel",
          "state": {
            "_view_name": "ProgressView",
            "style": "IPY_MODEL_4552bf71763b4092a533b2115eac4ea3",
            "_dom_classes": [],
            "description": "",
            "_model_name": "FloatProgressModel",
            "bar_style": "success",
            "max": 1,
            "_view_module": "@jupyter-widgets/controls",
            "_model_module_version": "1.5.0",
            "value": 1,
            "_view_count": null,
            "_view_module_version": "1.5.0",
            "orientation": "horizontal",
            "min": 0,
            "description_tooltip": null,
            "_model_module": "@jupyter-widgets/controls",
            "layout": "IPY_MODEL_d58ca3a5a33b48a2ba33db452252c520"
          }
        },
        "3d54d5503f934a1888e8cec9ad5da4bc": {
          "model_module": "@jupyter-widgets/controls",
          "model_name": "HTMLModel",
          "state": {
            "_view_name": "HTMLView",
            "style": "IPY_MODEL_a501f511158d496eb5fe1e32c2539a7b",
            "_dom_classes": [],
            "description": "",
            "_model_name": "HTMLModel",
            "placeholder": "​",
            "_view_module": "@jupyter-widgets/controls",
            "_model_module_version": "1.5.0",
            "value": " 1654784/? [00:00&lt;00:00, 3247243.10it/s]",
            "_view_count": null,
            "_view_module_version": "1.5.0",
            "description_tooltip": null,
            "_model_module": "@jupyter-widgets/controls",
            "layout": "IPY_MODEL_6253d807a06d42828b7aa2bac0891d36"
          }
        },
        "4552bf71763b4092a533b2115eac4ea3": {
          "model_module": "@jupyter-widgets/controls",
          "model_name": "ProgressStyleModel",
          "state": {
            "_view_name": "StyleView",
            "_model_name": "ProgressStyleModel",
            "description_width": "initial",
            "_view_module": "@jupyter-widgets/base",
            "_model_module_version": "1.5.0",
            "_view_count": null,
            "_view_module_version": "1.2.0",
            "bar_color": null,
            "_model_module": "@jupyter-widgets/controls"
          }
        },
        "d58ca3a5a33b48a2ba33db452252c520": {
          "model_module": "@jupyter-widgets/base",
          "model_name": "LayoutModel",
          "state": {
            "_view_name": "LayoutView",
            "grid_template_rows": null,
            "right": null,
            "justify_content": null,
            "_view_module": "@jupyter-widgets/base",
            "overflow": null,
            "_model_module_version": "1.2.0",
            "_view_count": null,
            "flex_flow": null,
            "width": null,
            "min_width": null,
            "border": null,
            "align_items": null,
            "bottom": null,
            "_model_module": "@jupyter-widgets/base",
            "top": null,
            "grid_column": null,
            "overflow_y": null,
            "overflow_x": null,
            "grid_auto_flow": null,
            "grid_area": null,
            "grid_template_columns": null,
            "flex": null,
            "_model_name": "LayoutModel",
            "justify_items": null,
            "grid_row": null,
            "max_height": null,
            "align_content": null,
            "visibility": null,
            "align_self": null,
            "height": null,
            "min_height": null,
            "padding": null,
            "grid_auto_rows": null,
            "grid_gap": null,
            "max_width": null,
            "order": null,
            "_view_module_version": "1.2.0",
            "grid_template_areas": null,
            "object_position": null,
            "object_fit": null,
            "grid_auto_columns": null,
            "margin": null,
            "display": null,
            "left": null
          }
        },
        "a501f511158d496eb5fe1e32c2539a7b": {
          "model_module": "@jupyter-widgets/controls",
          "model_name": "DescriptionStyleModel",
          "state": {
            "_view_name": "StyleView",
            "_model_name": "DescriptionStyleModel",
            "description_width": "",
            "_view_module": "@jupyter-widgets/base",
            "_model_module_version": "1.5.0",
            "_view_count": null,
            "_view_module_version": "1.2.0",
            "_model_module": "@jupyter-widgets/controls"
          }
        },
        "6253d807a06d42828b7aa2bac0891d36": {
          "model_module": "@jupyter-widgets/base",
          "model_name": "LayoutModel",
          "state": {
            "_view_name": "LayoutView",
            "grid_template_rows": null,
            "right": null,
            "justify_content": null,
            "_view_module": "@jupyter-widgets/base",
            "overflow": null,
            "_model_module_version": "1.2.0",
            "_view_count": null,
            "flex_flow": null,
            "width": null,
            "min_width": null,
            "border": null,
            "align_items": null,
            "bottom": null,
            "_model_module": "@jupyter-widgets/base",
            "top": null,
            "grid_column": null,
            "overflow_y": null,
            "overflow_x": null,
            "grid_auto_flow": null,
            "grid_area": null,
            "grid_template_columns": null,
            "flex": null,
            "_model_name": "LayoutModel",
            "justify_items": null,
            "grid_row": null,
            "max_height": null,
            "align_content": null,
            "visibility": null,
            "align_self": null,
            "height": null,
            "min_height": null,
            "padding": null,
            "grid_auto_rows": null,
            "grid_gap": null,
            "max_width": null,
            "order": null,
            "_view_module_version": "1.2.0",
            "grid_template_areas": null,
            "object_position": null,
            "object_fit": null,
            "grid_auto_columns": null,
            "margin": null,
            "display": null,
            "left": null
          }
        },
        "6c05c26629b54da3a694658d3799b48f": {
          "model_module": "@jupyter-widgets/controls",
          "model_name": "HBoxModel",
          "state": {
            "_view_name": "HBoxView",
            "_dom_classes": [],
            "_model_name": "HBoxModel",
            "_view_module": "@jupyter-widgets/controls",
            "_model_module_version": "1.5.0",
            "_view_count": null,
            "_view_module_version": "1.5.0",
            "box_style": "",
            "layout": "IPY_MODEL_0dbdd05ec56543a8bcaf35e05b4633ed",
            "_model_module": "@jupyter-widgets/controls",
            "children": [
              "IPY_MODEL_72fccdb457b2494190d6568778e62b4a",
              "IPY_MODEL_7ae17a5d0d1146fda40b4f6d09ada460"
            ]
          }
        },
        "0dbdd05ec56543a8bcaf35e05b4633ed": {
          "model_module": "@jupyter-widgets/base",
          "model_name": "LayoutModel",
          "state": {
            "_view_name": "LayoutView",
            "grid_template_rows": null,
            "right": null,
            "justify_content": null,
            "_view_module": "@jupyter-widgets/base",
            "overflow": null,
            "_model_module_version": "1.2.0",
            "_view_count": null,
            "flex_flow": null,
            "width": null,
            "min_width": null,
            "border": null,
            "align_items": null,
            "bottom": null,
            "_model_module": "@jupyter-widgets/base",
            "top": null,
            "grid_column": null,
            "overflow_y": null,
            "overflow_x": null,
            "grid_auto_flow": null,
            "grid_area": null,
            "grid_template_columns": null,
            "flex": null,
            "_model_name": "LayoutModel",
            "justify_items": null,
            "grid_row": null,
            "max_height": null,
            "align_content": null,
            "visibility": null,
            "align_self": null,
            "height": null,
            "min_height": null,
            "padding": null,
            "grid_auto_rows": null,
            "grid_gap": null,
            "max_width": null,
            "order": null,
            "_view_module_version": "1.2.0",
            "grid_template_areas": null,
            "object_position": null,
            "object_fit": null,
            "grid_auto_columns": null,
            "margin": null,
            "display": null,
            "left": null
          }
        },
        "72fccdb457b2494190d6568778e62b4a": {
          "model_module": "@jupyter-widgets/controls",
          "model_name": "FloatProgressModel",
          "state": {
            "_view_name": "ProgressView",
            "style": "IPY_MODEL_cf4f5a8fc362487b99ace76c9dd28697",
            "_dom_classes": [],
            "description": "",
            "_model_name": "FloatProgressModel",
            "bar_style": "success",
            "max": 1,
            "_view_module": "@jupyter-widgets/controls",
            "_model_module_version": "1.5.0",
            "value": 1,
            "_view_count": null,
            "_view_module_version": "1.5.0",
            "orientation": "horizontal",
            "min": 0,
            "description_tooltip": null,
            "_model_module": "@jupyter-widgets/controls",
            "layout": "IPY_MODEL_4b879a50dc2b4bed81af5891ebce5fed"
          }
        },
        "7ae17a5d0d1146fda40b4f6d09ada460": {
          "model_module": "@jupyter-widgets/controls",
          "model_name": "HTMLModel",
          "state": {
            "_view_name": "HTMLView",
            "style": "IPY_MODEL_73f43199579f4600a3d47f0cd6de2515",
            "_dom_classes": [],
            "description": "",
            "_model_name": "HTMLModel",
            "placeholder": "​",
            "_view_module": "@jupyter-widgets/controls",
            "_model_module_version": "1.5.0",
            "value": " 8192/? [00:00&lt;00:00, 27062.99it/s]",
            "_view_count": null,
            "_view_module_version": "1.5.0",
            "description_tooltip": null,
            "_model_module": "@jupyter-widgets/controls",
            "layout": "IPY_MODEL_d1bce6de122f4b2c8e05c97b87e7c0e4"
          }
        },
        "cf4f5a8fc362487b99ace76c9dd28697": {
          "model_module": "@jupyter-widgets/controls",
          "model_name": "ProgressStyleModel",
          "state": {
            "_view_name": "StyleView",
            "_model_name": "ProgressStyleModel",
            "description_width": "initial",
            "_view_module": "@jupyter-widgets/base",
            "_model_module_version": "1.5.0",
            "_view_count": null,
            "_view_module_version": "1.2.0",
            "bar_color": null,
            "_model_module": "@jupyter-widgets/controls"
          }
        },
        "4b879a50dc2b4bed81af5891ebce5fed": {
          "model_module": "@jupyter-widgets/base",
          "model_name": "LayoutModel",
          "state": {
            "_view_name": "LayoutView",
            "grid_template_rows": null,
            "right": null,
            "justify_content": null,
            "_view_module": "@jupyter-widgets/base",
            "overflow": null,
            "_model_module_version": "1.2.0",
            "_view_count": null,
            "flex_flow": null,
            "width": null,
            "min_width": null,
            "border": null,
            "align_items": null,
            "bottom": null,
            "_model_module": "@jupyter-widgets/base",
            "top": null,
            "grid_column": null,
            "overflow_y": null,
            "overflow_x": null,
            "grid_auto_flow": null,
            "grid_area": null,
            "grid_template_columns": null,
            "flex": null,
            "_model_name": "LayoutModel",
            "justify_items": null,
            "grid_row": null,
            "max_height": null,
            "align_content": null,
            "visibility": null,
            "align_self": null,
            "height": null,
            "min_height": null,
            "padding": null,
            "grid_auto_rows": null,
            "grid_gap": null,
            "max_width": null,
            "order": null,
            "_view_module_version": "1.2.0",
            "grid_template_areas": null,
            "object_position": null,
            "object_fit": null,
            "grid_auto_columns": null,
            "margin": null,
            "display": null,
            "left": null
          }
        },
        "73f43199579f4600a3d47f0cd6de2515": {
          "model_module": "@jupyter-widgets/controls",
          "model_name": "DescriptionStyleModel",
          "state": {
            "_view_name": "StyleView",
            "_model_name": "DescriptionStyleModel",
            "description_width": "",
            "_view_module": "@jupyter-widgets/base",
            "_model_module_version": "1.5.0",
            "_view_count": null,
            "_view_module_version": "1.2.0",
            "_model_module": "@jupyter-widgets/controls"
          }
        },
        "d1bce6de122f4b2c8e05c97b87e7c0e4": {
          "model_module": "@jupyter-widgets/base",
          "model_name": "LayoutModel",
          "state": {
            "_view_name": "LayoutView",
            "grid_template_rows": null,
            "right": null,
            "justify_content": null,
            "_view_module": "@jupyter-widgets/base",
            "overflow": null,
            "_model_module_version": "1.2.0",
            "_view_count": null,
            "flex_flow": null,
            "width": null,
            "min_width": null,
            "border": null,
            "align_items": null,
            "bottom": null,
            "_model_module": "@jupyter-widgets/base",
            "top": null,
            "grid_column": null,
            "overflow_y": null,
            "overflow_x": null,
            "grid_auto_flow": null,
            "grid_area": null,
            "grid_template_columns": null,
            "flex": null,
            "_model_name": "LayoutModel",
            "justify_items": null,
            "grid_row": null,
            "max_height": null,
            "align_content": null,
            "visibility": null,
            "align_self": null,
            "height": null,
            "min_height": null,
            "padding": null,
            "grid_auto_rows": null,
            "grid_gap": null,
            "max_width": null,
            "order": null,
            "_view_module_version": "1.2.0",
            "grid_template_areas": null,
            "object_position": null,
            "object_fit": null,
            "grid_auto_columns": null,
            "margin": null,
            "display": null,
            "left": null
          }
        },
        "b541458b82224262b5cda7239364b4e1": {
          "model_module": "@jupyter-widgets/controls",
          "model_name": "HBoxModel",
          "state": {
            "_view_name": "HBoxView",
            "_dom_classes": [],
            "_model_name": "HBoxModel",
            "_view_module": "@jupyter-widgets/controls",
            "_model_module_version": "1.5.0",
            "_view_count": null,
            "_view_module_version": "1.5.0",
            "box_style": "",
            "layout": "IPY_MODEL_640351ee02da48b79da7fbfed17d0f87",
            "_model_module": "@jupyter-widgets/controls",
            "children": [
              "IPY_MODEL_887182735bf94454b16b701bdda270d8",
              "IPY_MODEL_1d308541b3524cc48807eaa6f566ccfc"
            ]
          }
        },
        "640351ee02da48b79da7fbfed17d0f87": {
          "model_module": "@jupyter-widgets/base",
          "model_name": "LayoutModel",
          "state": {
            "_view_name": "LayoutView",
            "grid_template_rows": null,
            "right": null,
            "justify_content": null,
            "_view_module": "@jupyter-widgets/base",
            "overflow": null,
            "_model_module_version": "1.2.0",
            "_view_count": null,
            "flex_flow": null,
            "width": null,
            "min_width": null,
            "border": null,
            "align_items": null,
            "bottom": null,
            "_model_module": "@jupyter-widgets/base",
            "top": null,
            "grid_column": null,
            "overflow_y": null,
            "overflow_x": null,
            "grid_auto_flow": null,
            "grid_area": null,
            "grid_template_columns": null,
            "flex": null,
            "_model_name": "LayoutModel",
            "justify_items": null,
            "grid_row": null,
            "max_height": null,
            "align_content": null,
            "visibility": null,
            "align_self": null,
            "height": null,
            "min_height": null,
            "padding": null,
            "grid_auto_rows": null,
            "grid_gap": null,
            "max_width": null,
            "order": null,
            "_view_module_version": "1.2.0",
            "grid_template_areas": null,
            "object_position": null,
            "object_fit": null,
            "grid_auto_columns": null,
            "margin": null,
            "display": null,
            "left": null
          }
        },
        "887182735bf94454b16b701bdda270d8": {
          "model_module": "@jupyter-widgets/controls",
          "model_name": "FloatProgressModel",
          "state": {
            "_view_name": "ProgressView",
            "style": "IPY_MODEL_273c7ed5a25b4baabe817d3643c6c767",
            "_dom_classes": [],
            "description": "",
            "_model_name": "FloatProgressModel",
            "bar_style": "success",
            "max": 1,
            "_view_module": "@jupyter-widgets/controls",
            "_model_module_version": "1.5.0",
            "value": 1,
            "_view_count": null,
            "_view_module_version": "1.5.0",
            "orientation": "horizontal",
            "min": 0,
            "description_tooltip": null,
            "_model_module": "@jupyter-widgets/controls",
            "layout": "IPY_MODEL_18962fec13e24d628177da4aafb98c98"
          }
        },
        "1d308541b3524cc48807eaa6f566ccfc": {
          "model_module": "@jupyter-widgets/controls",
          "model_name": "HTMLModel",
          "state": {
            "_view_name": "HTMLView",
            "style": "IPY_MODEL_b8b6a2806e844e59b47a58511721aa1d",
            "_dom_classes": [],
            "description": "",
            "_model_name": "HTMLModel",
            "placeholder": "​",
            "_view_module": "@jupyter-widgets/controls",
            "_model_module_version": "1.5.0",
            "value": " 26427392/? [00:02&lt;00:00, 11387550.62it/s]",
            "_view_count": null,
            "_view_module_version": "1.5.0",
            "description_tooltip": null,
            "_model_module": "@jupyter-widgets/controls",
            "layout": "IPY_MODEL_3e74619c1af3496180d92ae9262bd12e"
          }
        },
        "273c7ed5a25b4baabe817d3643c6c767": {
          "model_module": "@jupyter-widgets/controls",
          "model_name": "ProgressStyleModel",
          "state": {
            "_view_name": "StyleView",
            "_model_name": "ProgressStyleModel",
            "description_width": "initial",
            "_view_module": "@jupyter-widgets/base",
            "_model_module_version": "1.5.0",
            "_view_count": null,
            "_view_module_version": "1.2.0",
            "bar_color": null,
            "_model_module": "@jupyter-widgets/controls"
          }
        },
        "18962fec13e24d628177da4aafb98c98": {
          "model_module": "@jupyter-widgets/base",
          "model_name": "LayoutModel",
          "state": {
            "_view_name": "LayoutView",
            "grid_template_rows": null,
            "right": null,
            "justify_content": null,
            "_view_module": "@jupyter-widgets/base",
            "overflow": null,
            "_model_module_version": "1.2.0",
            "_view_count": null,
            "flex_flow": null,
            "width": null,
            "min_width": null,
            "border": null,
            "align_items": null,
            "bottom": null,
            "_model_module": "@jupyter-widgets/base",
            "top": null,
            "grid_column": null,
            "overflow_y": null,
            "overflow_x": null,
            "grid_auto_flow": null,
            "grid_area": null,
            "grid_template_columns": null,
            "flex": null,
            "_model_name": "LayoutModel",
            "justify_items": null,
            "grid_row": null,
            "max_height": null,
            "align_content": null,
            "visibility": null,
            "align_self": null,
            "height": null,
            "min_height": null,
            "padding": null,
            "grid_auto_rows": null,
            "grid_gap": null,
            "max_width": null,
            "order": null,
            "_view_module_version": "1.2.0",
            "grid_template_areas": null,
            "object_position": null,
            "object_fit": null,
            "grid_auto_columns": null,
            "margin": null,
            "display": null,
            "left": null
          }
        },
        "b8b6a2806e844e59b47a58511721aa1d": {
          "model_module": "@jupyter-widgets/controls",
          "model_name": "DescriptionStyleModel",
          "state": {
            "_view_name": "StyleView",
            "_model_name": "DescriptionStyleModel",
            "description_width": "",
            "_view_module": "@jupyter-widgets/base",
            "_model_module_version": "1.5.0",
            "_view_count": null,
            "_view_module_version": "1.2.0",
            "_model_module": "@jupyter-widgets/controls"
          }
        },
        "3e74619c1af3496180d92ae9262bd12e": {
          "model_module": "@jupyter-widgets/base",
          "model_name": "LayoutModel",
          "state": {
            "_view_name": "LayoutView",
            "grid_template_rows": null,
            "right": null,
            "justify_content": null,
            "_view_module": "@jupyter-widgets/base",
            "overflow": null,
            "_model_module_version": "1.2.0",
            "_view_count": null,
            "flex_flow": null,
            "width": null,
            "min_width": null,
            "border": null,
            "align_items": null,
            "bottom": null,
            "_model_module": "@jupyter-widgets/base",
            "top": null,
            "grid_column": null,
            "overflow_y": null,
            "overflow_x": null,
            "grid_auto_flow": null,
            "grid_area": null,
            "grid_template_columns": null,
            "flex": null,
            "_model_name": "LayoutModel",
            "justify_items": null,
            "grid_row": null,
            "max_height": null,
            "align_content": null,
            "visibility": null,
            "align_self": null,
            "height": null,
            "min_height": null,
            "padding": null,
            "grid_auto_rows": null,
            "grid_gap": null,
            "max_width": null,
            "order": null,
            "_view_module_version": "1.2.0",
            "grid_template_areas": null,
            "object_position": null,
            "object_fit": null,
            "grid_auto_columns": null,
            "margin": null,
            "display": null,
            "left": null
          }
        },
        "b34490b6c66143b8913ff565fd70c8c6": {
          "model_module": "@jupyter-widgets/controls",
          "model_name": "HBoxModel",
          "state": {
            "_view_name": "HBoxView",
            "_dom_classes": [],
            "_model_name": "HBoxModel",
            "_view_module": "@jupyter-widgets/controls",
            "_model_module_version": "1.5.0",
            "_view_count": null,
            "_view_module_version": "1.5.0",
            "box_style": "",
            "layout": "IPY_MODEL_3307134b89344708a2b65495c8d712ef",
            "_model_module": "@jupyter-widgets/controls",
            "children": [
              "IPY_MODEL_487865a1df3e48a78706f87b7041b25b",
              "IPY_MODEL_d729eecf080347fb94f9d8d92984199e"
            ]
          }
        },
        "3307134b89344708a2b65495c8d712ef": {
          "model_module": "@jupyter-widgets/base",
          "model_name": "LayoutModel",
          "state": {
            "_view_name": "LayoutView",
            "grid_template_rows": null,
            "right": null,
            "justify_content": null,
            "_view_module": "@jupyter-widgets/base",
            "overflow": null,
            "_model_module_version": "1.2.0",
            "_view_count": null,
            "flex_flow": null,
            "width": null,
            "min_width": null,
            "border": null,
            "align_items": null,
            "bottom": null,
            "_model_module": "@jupyter-widgets/base",
            "top": null,
            "grid_column": null,
            "overflow_y": null,
            "overflow_x": null,
            "grid_auto_flow": null,
            "grid_area": null,
            "grid_template_columns": null,
            "flex": null,
            "_model_name": "LayoutModel",
            "justify_items": null,
            "grid_row": null,
            "max_height": null,
            "align_content": null,
            "visibility": null,
            "align_self": null,
            "height": null,
            "min_height": null,
            "padding": null,
            "grid_auto_rows": null,
            "grid_gap": null,
            "max_width": null,
            "order": null,
            "_view_module_version": "1.2.0",
            "grid_template_areas": null,
            "object_position": null,
            "object_fit": null,
            "grid_auto_columns": null,
            "margin": null,
            "display": null,
            "left": null
          }
        },
        "487865a1df3e48a78706f87b7041b25b": {
          "model_module": "@jupyter-widgets/controls",
          "model_name": "FloatProgressModel",
          "state": {
            "_view_name": "ProgressView",
            "style": "IPY_MODEL_298379224b3847da82783ed5de766538",
            "_dom_classes": [],
            "description": "",
            "_model_name": "FloatProgressModel",
            "bar_style": "success",
            "max": 1,
            "_view_module": "@jupyter-widgets/controls",
            "_model_module_version": "1.5.0",
            "value": 1,
            "_view_count": null,
            "_view_module_version": "1.5.0",
            "orientation": "horizontal",
            "min": 0,
            "description_tooltip": null,
            "_model_module": "@jupyter-widgets/controls",
            "layout": "IPY_MODEL_dd86362d8f954dcb8f692409854a8fc0"
          }
        },
        "d729eecf080347fb94f9d8d92984199e": {
          "model_module": "@jupyter-widgets/controls",
          "model_name": "HTMLModel",
          "state": {
            "_view_name": "HTMLView",
            "style": "IPY_MODEL_77f4aad2d8f444ad8ea97c4367a2945c",
            "_dom_classes": [],
            "description": "",
            "_model_name": "HTMLModel",
            "placeholder": "​",
            "_view_module": "@jupyter-widgets/controls",
            "_model_module_version": "1.5.0",
            "value": " 32768/? [00:00&lt;00:00, 101550.65it/s]",
            "_view_count": null,
            "_view_module_version": "1.5.0",
            "description_tooltip": null,
            "_model_module": "@jupyter-widgets/controls",
            "layout": "IPY_MODEL_c161fb99be864dfa82890f9a2cf28692"
          }
        },
        "298379224b3847da82783ed5de766538": {
          "model_module": "@jupyter-widgets/controls",
          "model_name": "ProgressStyleModel",
          "state": {
            "_view_name": "StyleView",
            "_model_name": "ProgressStyleModel",
            "description_width": "initial",
            "_view_module": "@jupyter-widgets/base",
            "_model_module_version": "1.5.0",
            "_view_count": null,
            "_view_module_version": "1.2.0",
            "bar_color": null,
            "_model_module": "@jupyter-widgets/controls"
          }
        },
        "dd86362d8f954dcb8f692409854a8fc0": {
          "model_module": "@jupyter-widgets/base",
          "model_name": "LayoutModel",
          "state": {
            "_view_name": "LayoutView",
            "grid_template_rows": null,
            "right": null,
            "justify_content": null,
            "_view_module": "@jupyter-widgets/base",
            "overflow": null,
            "_model_module_version": "1.2.0",
            "_view_count": null,
            "flex_flow": null,
            "width": null,
            "min_width": null,
            "border": null,
            "align_items": null,
            "bottom": null,
            "_model_module": "@jupyter-widgets/base",
            "top": null,
            "grid_column": null,
            "overflow_y": null,
            "overflow_x": null,
            "grid_auto_flow": null,
            "grid_area": null,
            "grid_template_columns": null,
            "flex": null,
            "_model_name": "LayoutModel",
            "justify_items": null,
            "grid_row": null,
            "max_height": null,
            "align_content": null,
            "visibility": null,
            "align_self": null,
            "height": null,
            "min_height": null,
            "padding": null,
            "grid_auto_rows": null,
            "grid_gap": null,
            "max_width": null,
            "order": null,
            "_view_module_version": "1.2.0",
            "grid_template_areas": null,
            "object_position": null,
            "object_fit": null,
            "grid_auto_columns": null,
            "margin": null,
            "display": null,
            "left": null
          }
        },
        "77f4aad2d8f444ad8ea97c4367a2945c": {
          "model_module": "@jupyter-widgets/controls",
          "model_name": "DescriptionStyleModel",
          "state": {
            "_view_name": "StyleView",
            "_model_name": "DescriptionStyleModel",
            "description_width": "",
            "_view_module": "@jupyter-widgets/base",
            "_model_module_version": "1.5.0",
            "_view_count": null,
            "_view_module_version": "1.2.0",
            "_model_module": "@jupyter-widgets/controls"
          }
        },
        "c161fb99be864dfa82890f9a2cf28692": {
          "model_module": "@jupyter-widgets/base",
          "model_name": "LayoutModel",
          "state": {
            "_view_name": "LayoutView",
            "grid_template_rows": null,
            "right": null,
            "justify_content": null,
            "_view_module": "@jupyter-widgets/base",
            "overflow": null,
            "_model_module_version": "1.2.0",
            "_view_count": null,
            "flex_flow": null,
            "width": null,
            "min_width": null,
            "border": null,
            "align_items": null,
            "bottom": null,
            "_model_module": "@jupyter-widgets/base",
            "top": null,
            "grid_column": null,
            "overflow_y": null,
            "overflow_x": null,
            "grid_auto_flow": null,
            "grid_area": null,
            "grid_template_columns": null,
            "flex": null,
            "_model_name": "LayoutModel",
            "justify_items": null,
            "grid_row": null,
            "max_height": null,
            "align_content": null,
            "visibility": null,
            "align_self": null,
            "height": null,
            "min_height": null,
            "padding": null,
            "grid_auto_rows": null,
            "grid_gap": null,
            "max_width": null,
            "order": null,
            "_view_module_version": "1.2.0",
            "grid_template_areas": null,
            "object_position": null,
            "object_fit": null,
            "grid_auto_columns": null,
            "margin": null,
            "display": null,
            "left": null
          }
        },
        "4fba88a07c8e4aa28d32803b56cf8bd9": {
          "model_module": "@jupyter-widgets/controls",
          "model_name": "HBoxModel",
          "state": {
            "_view_name": "HBoxView",
            "_dom_classes": [],
            "_model_name": "HBoxModel",
            "_view_module": "@jupyter-widgets/controls",
            "_model_module_version": "1.5.0",
            "_view_count": null,
            "_view_module_version": "1.5.0",
            "box_style": "",
            "layout": "IPY_MODEL_b556750a458f4b26812842dc46b135a4",
            "_model_module": "@jupyter-widgets/controls",
            "children": [
              "IPY_MODEL_45180e78fb3845dd9a94745efa246fdd",
              "IPY_MODEL_3cb38b1238ed4785bb38de30bb4b848b"
            ]
          }
        },
        "b556750a458f4b26812842dc46b135a4": {
          "model_module": "@jupyter-widgets/base",
          "model_name": "LayoutModel",
          "state": {
            "_view_name": "LayoutView",
            "grid_template_rows": null,
            "right": null,
            "justify_content": null,
            "_view_module": "@jupyter-widgets/base",
            "overflow": null,
            "_model_module_version": "1.2.0",
            "_view_count": null,
            "flex_flow": null,
            "width": null,
            "min_width": null,
            "border": null,
            "align_items": null,
            "bottom": null,
            "_model_module": "@jupyter-widgets/base",
            "top": null,
            "grid_column": null,
            "overflow_y": null,
            "overflow_x": null,
            "grid_auto_flow": null,
            "grid_area": null,
            "grid_template_columns": null,
            "flex": null,
            "_model_name": "LayoutModel",
            "justify_items": null,
            "grid_row": null,
            "max_height": null,
            "align_content": null,
            "visibility": null,
            "align_self": null,
            "height": null,
            "min_height": null,
            "padding": null,
            "grid_auto_rows": null,
            "grid_gap": null,
            "max_width": null,
            "order": null,
            "_view_module_version": "1.2.0",
            "grid_template_areas": null,
            "object_position": null,
            "object_fit": null,
            "grid_auto_columns": null,
            "margin": null,
            "display": null,
            "left": null
          }
        },
        "45180e78fb3845dd9a94745efa246fdd": {
          "model_module": "@jupyter-widgets/controls",
          "model_name": "FloatProgressModel",
          "state": {
            "_view_name": "ProgressView",
            "style": "IPY_MODEL_ccc07b4ee1c64982b96413e38b033187",
            "_dom_classes": [],
            "description": "",
            "_model_name": "FloatProgressModel",
            "bar_style": "success",
            "max": 1,
            "_view_module": "@jupyter-widgets/controls",
            "_model_module_version": "1.5.0",
            "value": 1,
            "_view_count": null,
            "_view_module_version": "1.5.0",
            "orientation": "horizontal",
            "min": 0,
            "description_tooltip": null,
            "_model_module": "@jupyter-widgets/controls",
            "layout": "IPY_MODEL_48be19cea5b84f0d95bf883b42ca3dc4"
          }
        },
        "3cb38b1238ed4785bb38de30bb4b848b": {
          "model_module": "@jupyter-widgets/controls",
          "model_name": "HTMLModel",
          "state": {
            "_view_name": "HTMLView",
            "style": "IPY_MODEL_fcf8c6354f88421b805849dc53fef237",
            "_dom_classes": [],
            "description": "",
            "_model_name": "HTMLModel",
            "placeholder": "​",
            "_view_module": "@jupyter-widgets/controls",
            "_model_module_version": "1.5.0",
            "value": " 4423680/? [00:01&lt;00:00, 2943524.39it/s]",
            "_view_count": null,
            "_view_module_version": "1.5.0",
            "description_tooltip": null,
            "_model_module": "@jupyter-widgets/controls",
            "layout": "IPY_MODEL_325320dd30c94fc3bb947633a5b73cda"
          }
        },
        "ccc07b4ee1c64982b96413e38b033187": {
          "model_module": "@jupyter-widgets/controls",
          "model_name": "ProgressStyleModel",
          "state": {
            "_view_name": "StyleView",
            "_model_name": "ProgressStyleModel",
            "description_width": "initial",
            "_view_module": "@jupyter-widgets/base",
            "_model_module_version": "1.5.0",
            "_view_count": null,
            "_view_module_version": "1.2.0",
            "bar_color": null,
            "_model_module": "@jupyter-widgets/controls"
          }
        },
        "48be19cea5b84f0d95bf883b42ca3dc4": {
          "model_module": "@jupyter-widgets/base",
          "model_name": "LayoutModel",
          "state": {
            "_view_name": "LayoutView",
            "grid_template_rows": null,
            "right": null,
            "justify_content": null,
            "_view_module": "@jupyter-widgets/base",
            "overflow": null,
            "_model_module_version": "1.2.0",
            "_view_count": null,
            "flex_flow": null,
            "width": null,
            "min_width": null,
            "border": null,
            "align_items": null,
            "bottom": null,
            "_model_module": "@jupyter-widgets/base",
            "top": null,
            "grid_column": null,
            "overflow_y": null,
            "overflow_x": null,
            "grid_auto_flow": null,
            "grid_area": null,
            "grid_template_columns": null,
            "flex": null,
            "_model_name": "LayoutModel",
            "justify_items": null,
            "grid_row": null,
            "max_height": null,
            "align_content": null,
            "visibility": null,
            "align_self": null,
            "height": null,
            "min_height": null,
            "padding": null,
            "grid_auto_rows": null,
            "grid_gap": null,
            "max_width": null,
            "order": null,
            "_view_module_version": "1.2.0",
            "grid_template_areas": null,
            "object_position": null,
            "object_fit": null,
            "grid_auto_columns": null,
            "margin": null,
            "display": null,
            "left": null
          }
        },
        "fcf8c6354f88421b805849dc53fef237": {
          "model_module": "@jupyter-widgets/controls",
          "model_name": "DescriptionStyleModel",
          "state": {
            "_view_name": "StyleView",
            "_model_name": "DescriptionStyleModel",
            "description_width": "",
            "_view_module": "@jupyter-widgets/base",
            "_model_module_version": "1.5.0",
            "_view_count": null,
            "_view_module_version": "1.2.0",
            "_model_module": "@jupyter-widgets/controls"
          }
        },
        "325320dd30c94fc3bb947633a5b73cda": {
          "model_module": "@jupyter-widgets/base",
          "model_name": "LayoutModel",
          "state": {
            "_view_name": "LayoutView",
            "grid_template_rows": null,
            "right": null,
            "justify_content": null,
            "_view_module": "@jupyter-widgets/base",
            "overflow": null,
            "_model_module_version": "1.2.0",
            "_view_count": null,
            "flex_flow": null,
            "width": null,
            "min_width": null,
            "border": null,
            "align_items": null,
            "bottom": null,
            "_model_module": "@jupyter-widgets/base",
            "top": null,
            "grid_column": null,
            "overflow_y": null,
            "overflow_x": null,
            "grid_auto_flow": null,
            "grid_area": null,
            "grid_template_columns": null,
            "flex": null,
            "_model_name": "LayoutModel",
            "justify_items": null,
            "grid_row": null,
            "max_height": null,
            "align_content": null,
            "visibility": null,
            "align_self": null,
            "height": null,
            "min_height": null,
            "padding": null,
            "grid_auto_rows": null,
            "grid_gap": null,
            "max_width": null,
            "order": null,
            "_view_module_version": "1.2.0",
            "grid_template_areas": null,
            "object_position": null,
            "object_fit": null,
            "grid_auto_columns": null,
            "margin": null,
            "display": null,
            "left": null
          }
        },
        "ea676ead336d4800aaf421e088101ac2": {
          "model_module": "@jupyter-widgets/controls",
          "model_name": "HBoxModel",
          "state": {
            "_view_name": "HBoxView",
            "_dom_classes": [],
            "_model_name": "HBoxModel",
            "_view_module": "@jupyter-widgets/controls",
            "_model_module_version": "1.5.0",
            "_view_count": null,
            "_view_module_version": "1.5.0",
            "box_style": "",
            "layout": "IPY_MODEL_75826b9f76344732a50cb8fd37c60106",
            "_model_module": "@jupyter-widgets/controls",
            "children": [
              "IPY_MODEL_32368c1d4aa1429081ad056557f7224d",
              "IPY_MODEL_979971e635dd4511a29a36b3f5b514ad"
            ]
          }
        },
        "75826b9f76344732a50cb8fd37c60106": {
          "model_module": "@jupyter-widgets/base",
          "model_name": "LayoutModel",
          "state": {
            "_view_name": "LayoutView",
            "grid_template_rows": null,
            "right": null,
            "justify_content": null,
            "_view_module": "@jupyter-widgets/base",
            "overflow": null,
            "_model_module_version": "1.2.0",
            "_view_count": null,
            "flex_flow": null,
            "width": null,
            "min_width": null,
            "border": null,
            "align_items": null,
            "bottom": null,
            "_model_module": "@jupyter-widgets/base",
            "top": null,
            "grid_column": null,
            "overflow_y": null,
            "overflow_x": null,
            "grid_auto_flow": null,
            "grid_area": null,
            "grid_template_columns": null,
            "flex": null,
            "_model_name": "LayoutModel",
            "justify_items": null,
            "grid_row": null,
            "max_height": null,
            "align_content": null,
            "visibility": null,
            "align_self": null,
            "height": null,
            "min_height": null,
            "padding": null,
            "grid_auto_rows": null,
            "grid_gap": null,
            "max_width": null,
            "order": null,
            "_view_module_version": "1.2.0",
            "grid_template_areas": null,
            "object_position": null,
            "object_fit": null,
            "grid_auto_columns": null,
            "margin": null,
            "display": null,
            "left": null
          }
        },
        "32368c1d4aa1429081ad056557f7224d": {
          "model_module": "@jupyter-widgets/controls",
          "model_name": "FloatProgressModel",
          "state": {
            "_view_name": "ProgressView",
            "style": "IPY_MODEL_b2bd0385835a4564a4dd3b438af3a05c",
            "_dom_classes": [],
            "description": "",
            "_model_name": "FloatProgressModel",
            "bar_style": "success",
            "max": 1,
            "_view_module": "@jupyter-widgets/controls",
            "_model_module_version": "1.5.0",
            "value": 1,
            "_view_count": null,
            "_view_module_version": "1.5.0",
            "orientation": "horizontal",
            "min": 0,
            "description_tooltip": null,
            "_model_module": "@jupyter-widgets/controls",
            "layout": "IPY_MODEL_7626ffb192834287a104d4cfed8a163c"
          }
        },
        "979971e635dd4511a29a36b3f5b514ad": {
          "model_module": "@jupyter-widgets/controls",
          "model_name": "HTMLModel",
          "state": {
            "_view_name": "HTMLView",
            "style": "IPY_MODEL_c0c625e8317d4d5fa8b2673164b4dfc9",
            "_dom_classes": [],
            "description": "",
            "_model_name": "HTMLModel",
            "placeholder": "​",
            "_view_module": "@jupyter-widgets/controls",
            "_model_module_version": "1.5.0",
            "value": " 8192/? [00:00&lt;00:00, 19616.73it/s]",
            "_view_count": null,
            "_view_module_version": "1.5.0",
            "description_tooltip": null,
            "_model_module": "@jupyter-widgets/controls",
            "layout": "IPY_MODEL_35d4b6ae43a54faba96d32e03f89954f"
          }
        },
        "b2bd0385835a4564a4dd3b438af3a05c": {
          "model_module": "@jupyter-widgets/controls",
          "model_name": "ProgressStyleModel",
          "state": {
            "_view_name": "StyleView",
            "_model_name": "ProgressStyleModel",
            "description_width": "initial",
            "_view_module": "@jupyter-widgets/base",
            "_model_module_version": "1.5.0",
            "_view_count": null,
            "_view_module_version": "1.2.0",
            "bar_color": null,
            "_model_module": "@jupyter-widgets/controls"
          }
        },
        "7626ffb192834287a104d4cfed8a163c": {
          "model_module": "@jupyter-widgets/base",
          "model_name": "LayoutModel",
          "state": {
            "_view_name": "LayoutView",
            "grid_template_rows": null,
            "right": null,
            "justify_content": null,
            "_view_module": "@jupyter-widgets/base",
            "overflow": null,
            "_model_module_version": "1.2.0",
            "_view_count": null,
            "flex_flow": null,
            "width": null,
            "min_width": null,
            "border": null,
            "align_items": null,
            "bottom": null,
            "_model_module": "@jupyter-widgets/base",
            "top": null,
            "grid_column": null,
            "overflow_y": null,
            "overflow_x": null,
            "grid_auto_flow": null,
            "grid_area": null,
            "grid_template_columns": null,
            "flex": null,
            "_model_name": "LayoutModel",
            "justify_items": null,
            "grid_row": null,
            "max_height": null,
            "align_content": null,
            "visibility": null,
            "align_self": null,
            "height": null,
            "min_height": null,
            "padding": null,
            "grid_auto_rows": null,
            "grid_gap": null,
            "max_width": null,
            "order": null,
            "_view_module_version": "1.2.0",
            "grid_template_areas": null,
            "object_position": null,
            "object_fit": null,
            "grid_auto_columns": null,
            "margin": null,
            "display": null,
            "left": null
          }
        },
        "c0c625e8317d4d5fa8b2673164b4dfc9": {
          "model_module": "@jupyter-widgets/controls",
          "model_name": "DescriptionStyleModel",
          "state": {
            "_view_name": "StyleView",
            "_model_name": "DescriptionStyleModel",
            "description_width": "",
            "_view_module": "@jupyter-widgets/base",
            "_model_module_version": "1.5.0",
            "_view_count": null,
            "_view_module_version": "1.2.0",
            "_model_module": "@jupyter-widgets/controls"
          }
        },
        "35d4b6ae43a54faba96d32e03f89954f": {
          "model_module": "@jupyter-widgets/base",
          "model_name": "LayoutModel",
          "state": {
            "_view_name": "LayoutView",
            "grid_template_rows": null,
            "right": null,
            "justify_content": null,
            "_view_module": "@jupyter-widgets/base",
            "overflow": null,
            "_model_module_version": "1.2.0",
            "_view_count": null,
            "flex_flow": null,
            "width": null,
            "min_width": null,
            "border": null,
            "align_items": null,
            "bottom": null,
            "_model_module": "@jupyter-widgets/base",
            "top": null,
            "grid_column": null,
            "overflow_y": null,
            "overflow_x": null,
            "grid_auto_flow": null,
            "grid_area": null,
            "grid_template_columns": null,
            "flex": null,
            "_model_name": "LayoutModel",
            "justify_items": null,
            "grid_row": null,
            "max_height": null,
            "align_content": null,
            "visibility": null,
            "align_self": null,
            "height": null,
            "min_height": null,
            "padding": null,
            "grid_auto_rows": null,
            "grid_gap": null,
            "max_width": null,
            "order": null,
            "_view_module_version": "1.2.0",
            "grid_template_areas": null,
            "object_position": null,
            "object_fit": null,
            "grid_auto_columns": null,
            "margin": null,
            "display": null,
            "left": null
          }
        }
      }
    }
  },
  "cells": [
    {
      "cell_type": "markdown",
      "metadata": {
        "id": "CnaOcfLTnTZ7"
      },
      "source": [
        "#**Redes Convolucionales**\n",
        "\n",
        "El propósito del presente ejemplo es demostrar la implementación de las redes convolucionales a través de Pytorch, una de las librerías más populares en este contexto. Iniciaremos con la inclusión de las librerías necesarias para el ejercicio."
      ]
    },
    {
      "cell_type": "code",
      "metadata": {
        "id": "GrR2FUx36Y8Z"
      },
      "source": [
        "from tensorflow import keras\n",
        "\n",
        "import numpy as np\n",
        "import matplotlib.pyplot as plt\n",
        "\n",
        "import torch\n",
        "import torch.nn as nn\n",
        "import torch.nn.functional as F\n",
        "import torchvision"
      ],
      "execution_count": null,
      "outputs": []
    },
    {
      "cell_type": "markdown",
      "metadata": {
        "id": "yJSeYEXLzcjq"
      },
      "source": [
        "Ahora definiremos los hiperparámetros fundamentales del ejercicio. Aquí definiremos cuántos elementos componen el set de entrenamiento y validación"
      ]
    },
    {
      "cell_type": "code",
      "metadata": {
        "id": "ZrsFX3VAfQPd"
      },
      "source": [
        "batch_size_train = 32\n",
        "batch_size_test = 1000\n",
        "\n",
        "random_seed = 1\n",
        "torch.manual_seed(random_seed)\n",
        "device = torch.device(\"cuda\" if torch.cuda.is_available() else \"cpu\")"
      ],
      "execution_count": null,
      "outputs": []
    },
    {
      "cell_type": "markdown",
      "metadata": {
        "id": "jEPdkwGS22Z8"
      },
      "source": [
        "Emplearemos el dataset MNIST para nuestro ejemplo."
      ]
    },
    {
      "cell_type": "code",
      "metadata": {
        "id": "aCSIKvfIFdiq",
        "colab": {
          "base_uri": "https://localhost:8080/",
          "height": 371,
          "referenced_widgets": [
            "8b60d3f155b34396bcd4806b404254fa",
            "d2ab0231622443fc937f50266e961251",
            "6db4188e1b4b474d842372cccc175f58",
            "4fd03ecbd1a74ada96f2b4e5b20e0277",
            "3c70f4e279f74ba1b116229b3cf75e1b",
            "41a9a842878a4cab89bcdc9c5515740f",
            "c52086ca885c499689b87510ad3e8f11",
            "e323b2455b694884bf10bf953e038695",
            "7afbd15eeda54edca467c87776041eb1",
            "74b02fa14eb1468a957ec8703e00c607",
            "6b7cb0bee80d4d3cbb8866e00728e329",
            "0633ec693a33489cb6d3071a9f254773",
            "d9fd7751de0c4c479036dc0a0a4630ea",
            "55edf68372164bbdbb6460eb3ccddb4d",
            "f2b00274e9f14ad59f1f55fa543f9377",
            "f2d91938c9d7402ca38c5b26c6a69bc3",
            "443f9d41d40b4bae823bb11cdb1ce963",
            "ff4745806b4f4f41a14f3e710ba08f90",
            "cedbba7a3e0f4853bc7c57eb5e7040f7",
            "3d54d5503f934a1888e8cec9ad5da4bc",
            "4552bf71763b4092a533b2115eac4ea3",
            "d58ca3a5a33b48a2ba33db452252c520",
            "a501f511158d496eb5fe1e32c2539a7b",
            "6253d807a06d42828b7aa2bac0891d36",
            "6c05c26629b54da3a694658d3799b48f",
            "0dbdd05ec56543a8bcaf35e05b4633ed",
            "72fccdb457b2494190d6568778e62b4a",
            "7ae17a5d0d1146fda40b4f6d09ada460",
            "cf4f5a8fc362487b99ace76c9dd28697",
            "4b879a50dc2b4bed81af5891ebce5fed",
            "73f43199579f4600a3d47f0cd6de2515",
            "d1bce6de122f4b2c8e05c97b87e7c0e4"
          ]
        },
        "outputId": "10e9627d-718f-44aa-c195-dd05e74fe2f7"
      },
      "source": [
        "train_loader = torch.utils.data.DataLoader(\n",
        "  torchvision.datasets.MNIST('/files/', train=True, download=True,\n",
        "                             transform=torchvision.transforms.Compose([\n",
        "                               torchvision.transforms.ToTensor(),\n",
        "                               torchvision.transforms.Normalize(\n",
        "                                 (0.1307,), (0.3081,))\n",
        "                             ])),\n",
        "  batch_size=batch_size_train, shuffle=True)\n",
        "\n",
        "test_loader = torch.utils.data.DataLoader(\n",
        "  torchvision.datasets.MNIST('/files/', train=False, download=True,\n",
        "                             transform=torchvision.transforms.Compose([\n",
        "                               torchvision.transforms.ToTensor(),\n",
        "                               torchvision.transforms.Normalize(\n",
        "                                 (0.1307,), (0.3081,))\n",
        "                             ])),\n",
        "  batch_size=batch_size_test, shuffle=True)"
      ],
      "execution_count": null,
      "outputs": [
        {
          "output_type": "stream",
          "text": [
            "Downloading http://yann.lecun.com/exdb/mnist/train-images-idx3-ubyte.gz to /files/MNIST/raw/train-images-idx3-ubyte.gz\n"
          ],
          "name": "stdout"
        },
        {
          "output_type": "display_data",
          "data": {
            "application/vnd.jupyter.widget-view+json": {
              "model_id": "8b60d3f155b34396bcd4806b404254fa",
              "version_minor": 0,
              "version_major": 2
            },
            "text/plain": [
              "HBox(children=(FloatProgress(value=1.0, bar_style='info', max=1.0), HTML(value='')))"
            ]
          },
          "metadata": {
            "tags": []
          }
        },
        {
          "output_type": "stream",
          "text": [
            "Extracting /files/MNIST/raw/train-images-idx3-ubyte.gz to /files/MNIST/raw\n",
            "Downloading http://yann.lecun.com/exdb/mnist/train-labels-idx1-ubyte.gz to /files/MNIST/raw/train-labels-idx1-ubyte.gz\n"
          ],
          "name": "stdout"
        },
        {
          "output_type": "display_data",
          "data": {
            "application/vnd.jupyter.widget-view+json": {
              "model_id": "7afbd15eeda54edca467c87776041eb1",
              "version_minor": 0,
              "version_major": 2
            },
            "text/plain": [
              "HBox(children=(FloatProgress(value=1.0, bar_style='info', max=1.0), HTML(value='')))"
            ]
          },
          "metadata": {
            "tags": []
          }
        },
        {
          "output_type": "stream",
          "text": [
            "Extracting /files/MNIST/raw/train-labels-idx1-ubyte.gz to /files/MNIST/raw\n",
            "Downloading http://yann.lecun.com/exdb/mnist/t10k-images-idx3-ubyte.gz to /files/MNIST/raw/t10k-images-idx3-ubyte.gz\n"
          ],
          "name": "stdout"
        },
        {
          "output_type": "display_data",
          "data": {
            "application/vnd.jupyter.widget-view+json": {
              "model_id": "443f9d41d40b4bae823bb11cdb1ce963",
              "version_minor": 0,
              "version_major": 2
            },
            "text/plain": [
              "HBox(children=(FloatProgress(value=1.0, bar_style='info', max=1.0), HTML(value='')))"
            ]
          },
          "metadata": {
            "tags": []
          }
        },
        {
          "output_type": "stream",
          "text": [
            "Extracting /files/MNIST/raw/t10k-images-idx3-ubyte.gz to /files/MNIST/raw\n",
            "Downloading http://yann.lecun.com/exdb/mnist/t10k-labels-idx1-ubyte.gz to /files/MNIST/raw/t10k-labels-idx1-ubyte.gz\n"
          ],
          "name": "stdout"
        },
        {
          "output_type": "display_data",
          "data": {
            "application/vnd.jupyter.widget-view+json": {
              "model_id": "6c05c26629b54da3a694658d3799b48f",
              "version_minor": 0,
              "version_major": 2
            },
            "text/plain": [
              "HBox(children=(FloatProgress(value=1.0, bar_style='info', max=1.0), HTML(value='')))"
            ]
          },
          "metadata": {
            "tags": []
          }
        },
        {
          "output_type": "stream",
          "text": [
            "Extracting /files/MNIST/raw/t10k-labels-idx1-ubyte.gz to /files/MNIST/raw\n",
            "Processing...\n",
            "Done!\n"
          ],
          "name": "stdout"
        },
        {
          "output_type": "stream",
          "text": [
            "/usr/local/lib/python3.6/dist-packages/torchvision/datasets/mnist.py:480: UserWarning: The given NumPy array is not writeable, and PyTorch does not support non-writeable tensors. This means you can write to the underlying (supposedly non-writeable) NumPy array using the tensor. You may want to copy the array to protect its data or make it writeable before converting it to a tensor. This type of warning will be suppressed for the rest of this program. (Triggered internally at  /pytorch/torch/csrc/utils/tensor_numpy.cpp:141.)\n",
            "  return torch.from_numpy(parsed.astype(m[2], copy=False)).view(*s)\n"
          ],
          "name": "stderr"
        }
      ]
    },
    {
      "cell_type": "markdown",
      "metadata": {
        "id": "hg5mDaIB2wWO"
      },
      "source": [
        "Visualicemos algunas imágenes del dataset"
      ]
    },
    {
      "cell_type": "code",
      "metadata": {
        "colab": {
          "base_uri": "https://localhost:8080/",
          "height": 647
        },
        "id": "VHUHw1Q3YTKK",
        "outputId": "42b9f281-42d7-44e5-c5b7-a4bcbca12718"
      },
      "source": [
        "_, ax = plt.subplots(5, 5, figsize=(10, 10))\n",
        "index = 0\n",
        "examples = enumerate(test_loader)\n",
        "batch_idx, (example_data, example_targets) = next(examples)\n",
        "\n",
        "for i in range(5):\n",
        "    for j in range(5):\n",
        "        cell = ax[i][j]\n",
        "        cell.set_xticks([])\n",
        "        cell.set_yticks([])\n",
        "        cell.grid(False)\n",
        "        cell.imshow(example_data[index][0], cmap='gray')\n",
        "        index += 1\n",
        "        \n",
        "plt.show()"
      ],
      "execution_count": null,
      "outputs": [
        {
          "output_type": "stream",
          "text": [
            "\n",
            "\n",
            "\n",
            "\n"
          ],
          "name": "stdout"
        },
        {
          "output_type": "display_data",
          "data": {
            "image/png": "[encoded data removed]",
            "text/plain": [
              "<Figure size 720x720 with 25 Axes>"
            ]
          },
          "metadata": {
            "tags": []
          }
        }
      ]
    },
    {
      "cell_type": "markdown",
      "metadata": {
        "id": "t02pWSP_2-za"
      },
      "source": [
        "Ahora crearemos la arquitectura de la red convolucional para clasificar el dataset.\r\n",
        "\r\n",
        "<img src=\"data:image/png;base64,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\" />"
      ]
    },
    {
      "cell_type": "code",
      "metadata": {
        "id": "urSmob_GYZXA"
      },
      "source": [
        "class ConvNet(nn.Module):\n",
        "    def __init__(self):\n",
        "        super(ConvNet, self).__init__()\n",
        "        self.conv1 = nn.Conv2d(1, 32, kernel_size=3)\n",
        "        self.conv2 = nn.Conv2d(32, 64, kernel_size=3)\n",
        "        self.maxpool1 = nn.MaxPool2d(2)\n",
        "        self.dropout = nn.Dropout()\n",
        "\n",
        "        self.fc1 = nn.Linear(9216, 256)\n",
        "        self.fc2 = nn.Linear(256, 10)\n",
        "\n",
        "    def forward(self, input):\n",
        "        x = F.relu(self.conv1(input))\n",
        "        x = F.relu(self.conv2(x))\n",
        "        x = self.maxpool1(x)\n",
        "        x = self.dropout(x)\n",
        "\n",
        "        x = x.view(x.shape[0], -1)\n",
        "\n",
        "        x = F.relu(self.fc1(x))\n",
        "        x = F.relu(self.fc2(x))\n",
        "\n",
        "        return x"
      ],
      "execution_count": null,
      "outputs": []
    },
    {
      "cell_type": "markdown",
      "metadata": {
        "id": "sEbGqRbB3c2m"
      },
      "source": [
        "Ahora instanciaremos el modelo, el loss function a emplear, y también el método de optimización"
      ]
    },
    {
      "cell_type": "code",
      "metadata": {
        "id": "_UyxEqX1cfNr"
      },
      "source": [
        "model = ConvNet()\n",
        "model.cuda()\n",
        "criterion = nn.CrossEntropyLoss()\n",
        "optimizer = torch.optim.SGD(model.parameters(), lr=0.01)"
      ],
      "execution_count": null,
      "outputs": []
    },
    {
      "cell_type": "markdown",
      "metadata": {
        "id": "X1fMe-dD6YIO"
      },
      "source": [
        "Función para evaluar el modelo"
      ]
    },
    {
      "cell_type": "code",
      "metadata": {
        "id": "JiZFbt4XcuaW"
      },
      "source": [
        "def evaluate(probs, labels, loader):\n",
        "    _, top_class = torch.max(probs, dim=1)\n",
        "                \n",
        "    equals = top_class == labels.view(*top_class.shape)\n",
        "    accuracy = torch.sum(equals.type(torch.FloatTensor)).item()\n",
        "    \n",
        "    return accuracy / len(top_class)"
      ],
      "execution_count": null,
      "outputs": []
    },
    {
      "cell_type": "markdown",
      "metadata": {
        "id": "q3jKeTEq6cih"
      },
      "source": [
        "Función para crear una copia del mejor modelo"
      ]
    },
    {
      "cell_type": "code",
      "metadata": {
        "id": "qcijxGQtdw0D"
      },
      "source": [
        "def checkpoint_model():\n",
        "    checkpoint = {\n",
        "              'model': model,\n",
        "              'model_state_dict': model.state_dict(),\n",
        "              'optimizer_state_dict': optimizer.state_dict(),\n",
        "              'criterion': criterion\n",
        "    }\n",
        "\n",
        "    torch.save(checkpoint, 'best_model.pth')"
      ],
      "execution_count": null,
      "outputs": []
    },
    {
      "cell_type": "markdown",
      "metadata": {
        "id": "Oih0C3Wl6gdt"
      },
      "source": [
        "######Entrenamiento del modelo"
      ]
    },
    {
      "cell_type": "code",
      "metadata": {
        "id": "zMHSVsVUcRIN"
      },
      "source": [
        "def train(n_epochs):\n",
        "    print_every = 200\n",
        "    train_losses = []\n",
        "    train_counter = []\n",
        "    val_losses = []\n",
        "    test_counter = []\n",
        "    max_test_accuracy = 0\n",
        "\n",
        "    for epoch in range(n_epochs):\n",
        "        steps = 0\n",
        "        train_loss = 0\n",
        "        train_accuracy = 0\n",
        "        n_train_passes = 0\n",
        "        \n",
        "        model.train()\n",
        "        print(\"#### TURNING TO TRAINING MODE ####\")\n",
        "        \n",
        "        for inputs, labels in train_loader:\n",
        "            steps += 1\n",
        "            # Move input and label tensors to the default device\n",
        "            inputs, labels = inputs.to(device), labels.to(device)\n",
        "            \n",
        "            optimizer.zero_grad()\n",
        "            \n",
        "            logps = model(inputs)\n",
        "            \n",
        "            loss = criterion(logps, labels)\n",
        "            loss.backward()\n",
        "            optimizer.step()\n",
        "\n",
        "            train_loss += loss.item()\n",
        "            train_accuracy += evaluate(logps, labels, train_loader)\n",
        "            \n",
        "            if steps % print_every == 0:\n",
        "                print(f\"Epoch {epoch+1}/{n_epochs}.. \"\n",
        "                      #f\"Train loss: {running_loss/print_every:.3f}.. \"\n",
        "                      f\"Train loss: {train_loss/n_train_passes:.3f}.. \")\n",
        "                \n",
        "            n_train_passes += 1\n",
        "            \n",
        "        print(\"Epoch \" + str(epoch+1) + \" Train loss {:.3f} \".format(train_loss/n_train_passes) + \" train accuracy {:.3f}\".format(train_accuracy * 100 / n_train_passes) + \"%\")\n",
        "        train_losses.append(train_loss / n_train_passes)\n",
        "            \n",
        "        test_loss = 0\n",
        "        test_accuracy = 0.0\n",
        "        steps_test = 0\n",
        "        n_test_passes = 0\n",
        "        model.eval()\n",
        "        \n",
        "        print(\"#### TURNING TO EVALUATION MODE ####\")\n",
        "        \n",
        "        with torch.no_grad():\n",
        "            for val_inputs, val_labels in test_loader:\n",
        "                steps_test += 1\n",
        "                \n",
        "                val_inputs, val_labels = val_inputs.to(device), val_labels.to(device)\n",
        "                logps = model(val_inputs)\n",
        "                    \n",
        "                batch_loss = criterion(logps, val_labels)\n",
        "                    \n",
        "                test_loss += batch_loss.item()\n",
        "                test_accuracy += evaluate(logps, val_labels, test_loader)\n",
        "\n",
        "                if steps_test % print_every == 0:    \n",
        "                    print(f\"Epoch {epoch+1}/{n_epochs}.. \"\n",
        "                          #f\"Train loss: {running_loss/print_every:.3f}.. \"\n",
        "                          f\"Test loss: {test_loss/n_test_passes:.3f}.. \")\n",
        "                \n",
        "                \n",
        "                running_loss = 0\n",
        "                n_test_passes += 1\n",
        "                \n",
        "        test_accuracy = test_accuracy * 100 / n_test_passes\n",
        "        \n",
        "        if test_accuracy > max_test_accuracy:\n",
        "            checkpoint_model()\n",
        "            max_test_accuracy = test_accuracy\n",
        "                \n",
        "        print(\"Epoch \" + str(epoch+1) + \" Train loss {:.3f} \".format(test_loss/n_test_passes) + \" val accuracy {:.3f}\".format(test_accuracy) + \"%\")\n",
        "        val_losses.append(test_loss / n_test_passes)\n",
        "\n",
        "    return train_losses, val_losses"
      ],
      "execution_count": null,
      "outputs": []
    },
    {
      "cell_type": "markdown",
      "metadata": {
        "id": "KreKY2A16jPc"
      },
      "source": [
        "Proceso de entrenamiento del modelo"
      ]
    },
    {
      "cell_type": "code",
      "metadata": {
        "colab": {
          "base_uri": "https://localhost:8080/"
        },
        "id": "0C3tTShfFvk1",
        "outputId": "19153435-d769-42ea-f849-74a83d09e28e"
      },
      "source": [
        "train_losses, val_losses = train(5)"
      ],
      "execution_count": null,
      "outputs": [
        {
          "output_type": "stream",
          "text": [
            "#### TURNING TO TRAINING MODE ####\n",
            "Epoch 1/5.. Train loss: 1.210.. \n",
            "Epoch 1/5.. Train loss: 0.915.. \n",
            "Epoch 1/5.. Train loss: 0.803.. \n",
            "Epoch 1/5.. Train loss: 0.741.. \n",
            "Epoch 1/5.. Train loss: 0.695.. \n",
            "Epoch 1/5.. Train loss: 0.657.. \n",
            "Epoch 1/5.. Train loss: 0.629.. \n",
            "Epoch 1/5.. Train loss: 0.606.. \n",
            "Epoch 1/5.. Train loss: 0.583.. \n",
            "Epoch 1 Train loss 0.575  train accuracy 81.470%\n",
            "#### TURNING TO EVALUATION MODE ####\n",
            "Epoch 1 Train loss 0.356  val accuracy 87.080%\n",
            "#### TURNING TO TRAINING MODE ####\n",
            "Epoch 2/5.. Train loss: 0.245.. \n",
            "Epoch 2/5.. Train loss: 0.201.. \n",
            "Epoch 2/5.. Train loss: 0.190.. \n",
            "Epoch 2/5.. Train loss: 0.180.. \n",
            "Epoch 2/5.. Train loss: 0.172.. \n",
            "Epoch 2/5.. Train loss: 0.166.. \n",
            "Epoch 2/5.. Train loss: 0.159.. \n",
            "Epoch 2/5.. Train loss: 0.155.. \n",
            "Epoch 2/5.. Train loss: 0.150.. \n",
            "Epoch 2 Train loss 0.148  train accuracy 95.473%\n",
            "#### TURNING TO EVALUATION MODE ####\n",
            "Epoch 2 Train loss 0.080  val accuracy 97.540%\n",
            "#### TURNING TO TRAINING MODE ####\n",
            "Epoch 3/5.. Train loss: 0.095.. \n",
            "Epoch 3/5.. Train loss: 0.095.. \n",
            "Epoch 3/5.. Train loss: 0.093.. \n",
            "Epoch 3/5.. Train loss: 0.091.. \n",
            "Epoch 3/5.. Train loss: 0.089.. \n",
            "Epoch 3/5.. Train loss: 0.089.. \n",
            "Epoch 3/5.. Train loss: 0.087.. \n",
            "Epoch 3/5.. Train loss: 0.085.. \n",
            "Epoch 3/5.. Train loss: 0.085.. \n",
            "Epoch 3 Train loss 0.085  train accuracy 97.412%\n",
            "#### TURNING TO EVALUATION MODE ####\n",
            "Epoch 3 Train loss 0.053  val accuracy 98.290%\n",
            "#### TURNING TO TRAINING MODE ####\n",
            "Epoch 4/5.. Train loss: 0.071.. \n",
            "Epoch 4/5.. Train loss: 0.069.. \n",
            "Epoch 4/5.. Train loss: 0.070.. \n",
            "Epoch 4/5.. Train loss: 0.069.. \n",
            "Epoch 4/5.. Train loss: 0.067.. \n",
            "Epoch 4/5.. Train loss: 0.067.. \n",
            "Epoch 4/5.. Train loss: 0.066.. \n",
            "Epoch 4/5.. Train loss: 0.065.. \n",
            "Epoch 4/5.. Train loss: 0.064.. \n",
            "Epoch 4 Train loss 0.064  train accuracy 98.045%\n",
            "#### TURNING TO EVALUATION MODE ####\n",
            "Epoch 4 Train loss 0.044  val accuracy 98.550%\n",
            "#### TURNING TO TRAINING MODE ####\n",
            "Epoch 5/5.. Train loss: 0.050.. \n",
            "Epoch 5/5.. Train loss: 0.052.. \n",
            "Epoch 5/5.. Train loss: 0.051.. \n",
            "Epoch 5/5.. Train loss: 0.051.. \n",
            "Epoch 5/5.. Train loss: 0.051.. \n",
            "Epoch 5/5.. Train loss: 0.049.. \n",
            "Epoch 5/5.. Train loss: 0.049.. \n",
            "Epoch 5/5.. Train loss: 0.049.. \n",
            "Epoch 5/5.. Train loss: 0.050.. \n",
            "Epoch 5 Train loss 0.049  train accuracy 98.498%\n",
            "#### TURNING TO EVALUATION MODE ####\n",
            "Epoch 5 Train loss 0.037  val accuracy 98.760%\n"
          ],
          "name": "stdout"
        }
      ]
    },
    {
      "cell_type": "markdown",
      "metadata": {
        "id": "94_OgoIx9A1y"
      },
      "source": [
        "######Graficación de la función de error"
      ]
    },
    {
      "cell_type": "code",
      "metadata": {
        "id": "eYMe7aDchlSA"
      },
      "source": [
        "def plot_loss(train_losses, val_losses):\n",
        "    epochs = np.linspace(1, len(val_losses), len(val_losses))\n",
        "\n",
        "    plt.figure(figsize=(10, 10))\n",
        "    plt.plot(epochs, train_losses, label='Train loss')\n",
        "    plt.plot(epochs, val_losses, label='Validation loss')\n",
        "    plt.legend()\n",
        "    plt.grid(True)\n",
        "    plt.show()"
      ],
      "execution_count": null,
      "outputs": []
    },
    {
      "cell_type": "code",
      "metadata": {
        "colab": {
          "base_uri": "https://localhost:8080/",
          "height": 593
        },
        "id": "4jW_b17pG9Ms",
        "outputId": "becba8db-d93b-408d-8cee-3424a836f808"
      },
      "source": [
        "plot_loss(train_losses, val_losses)"
      ],
      "execution_count": null,
      "outputs": [
        {
          "output_type": "display_data",
          "data": {
            "image/png": "[encoded data removed]",
            "text/plain": [
              "<Figure size 720x720 with 1 Axes>"
            ]
          },
          "metadata": {
            "tags": [],
            "needs_background": "light"
          }
        }
      ]
    },
    {
      "cell_type": "markdown",
      "metadata": {
        "id": "kIF6tDYZ_d3Z"
      },
      "source": [
        "Ahora probaremos con algunas imágenes del dataset"
      ]
    },
    {
      "cell_type": "code",
      "metadata": {
        "id": "xQIZIiA1jLlg",
        "colab": {
          "base_uri": "https://localhost:8080/",
          "height": 1000
        },
        "outputId": "9f16bdcc-e2dd-4dac-a349-dbf6893f2724"
      },
      "source": [
        "def classify(classes, example_data, idx):\n",
        "    _, (ax1, ax2) = plt.subplots(1, 2, figsize=(10, 5))\n",
        "    ax1.imshow(example_data[idx][0], cmap='gray')\n",
        "    ax1.get_yaxis().set_visible(False)\n",
        "    ax1.get_xaxis().set_visible(False)\n",
        "    \n",
        "    probs = model(example_data[idx][0].reshape(1, 1, 28, 28).to('cuda'))\n",
        "    probs = probs.cpu().detach().numpy()\n",
        "    predicted = np.argmax(probs)\n",
        "    \n",
        "    yticks = np.arange(10)\n",
        "    \n",
        "    ax2.barh(classes, width=probs[0], align='center', color='green', ecolor='black')\n",
        "    ax2.set_xticks(probs[0])\n",
        "    ax2.set_yticks(yticks)\n",
        "    ax2.invert_yaxis()\n",
        "    ax2.set_xlabel('Probs')\n",
        "    ax2.set_title('Probabilities')\n",
        "    \n",
        "    plt.title(\"La red neuronal dice que este item es \" + str(classes[predicted]))\n",
        "    plt.show()\n",
        "\n",
        "classes = np.arange(0, 10)\n",
        "examples = enumerate(test_loader)\n",
        "batch_idx, (example_data, example_targets) = next(examples)\n",
        "\n",
        "for i in range(10):\n",
        "    classify(classes, example_data, i)"
      ],
      "execution_count": null,
      "outputs": [
        {
          "output_type": "display_data",
          "data": {
            "image/png": "[encoded data removed]",
            "text/plain": [
              "<Figure size 720x360 with 2 Axes>"
            ]
          },
          "metadata": {
            "tags": [],
            "needs_background": "light"
          }
        },
        {
          "output_type": "display_data",
          "data": {
            "image/png": "[encoded data removed]",
            "text/plain": [
              "<Figure size 720x360 with 2 Axes>"
            ]
          },
          "metadata": {
            "tags": [],
            "needs_background": "light"
          }
        },
        {
          "output_type": "display_data",
          "data": {
            "image/png": "[encoded data removed]",
            "text/plain": [
              "<Figure size 720x360 with 2 Axes>"
            ]
          },
          "metadata": {
            "tags": [],
            "needs_background": "light"
          }
        },
        {
          "output_type": "display_data",
          "data": {
            "image/png": "[encoded data removed]",
            "text/plain": [
              "<Figure size 720x360 with 2 Axes>"
            ]
          },
          "metadata": {
            "tags": [],
            "needs_background": "light"
          }
        },
        {
          "output_type": "display_data",
          "data": {
            "image/png": "[encoded data removed]",
            "text/plain": [
              "<Figure size 720x360 with 2 Axes>"
            ]
          },
          "metadata": {
            "tags": [],
            "needs_background": "light"
          }
        },
        {
          "output_type": "display_data",
          "data": {
            "image/png": "[encoded data removed]",
            "text/plain": [
              "<Figure size 720x360 with 2 Axes>"
            ]
          },
          "metadata": {
            "tags": [],
            "needs_background": "light"
          }
        },
        {
          "output_type": "display_data",
          "data": {
            "image/png": "[encoded data removed]",
            "text/plain": [
              "<Figure size 720x360 with 2 Axes>"
            ]
          },
          "metadata": {
            "tags": [],
            "needs_background": "light"
          }
        },
        {
          "output_type": "display_data",
          "data": {
            "image/png": "[encoded data removed]",
            "text/plain": [
              "<Figure size 720x360 with 2 Axes>"
            ]
          },
          "metadata": {
            "tags": [],
            "needs_background": "light"
          }
        },
        {
          "output_type": "display_data",
          "data": {
            "image/png": "[encoded data removed]",
            "text/plain": [
              "<Figure size 720x360 with 2 Axes>"
            ]
          },
          "metadata": {
            "tags": [],
            "needs_background": "light"
          }
        },
        {
          "output_type": "display_data",
          "data": {
            "image/png": "[encoded data removed]",
            "text/plain": [
              "<Figure size 720x360 with 2 Axes>"
            ]
          },
          "metadata": {
            "tags": [],
            "needs_background": "light"
          }
        }
      ]
    },
    {
      "cell_type": "markdown",
      "metadata": {
        "id": "F6VSUjtoARmT"
      },
      "source": [
        "# Segunda parte\n",
        "\n",
        "Ahora repetiremos el mismo procedimiento pero con un dataset llamado Fashion MNIST. Es un dataset un poco más complejo que el anterior y contiene imágenes de prendas de vestir."
      ]
    },
    {
      "cell_type": "code",
      "metadata": {
        "colab": {
          "base_uri": "https://localhost:8080/",
          "height": 371,
          "referenced_widgets": [
            "b541458b82224262b5cda7239364b4e1",
            "640351ee02da48b79da7fbfed17d0f87",
            "887182735bf94454b16b701bdda270d8",
            "1d308541b3524cc48807eaa6f566ccfc",
            "273c7ed5a25b4baabe817d3643c6c767",
            "18962fec13e24d628177da4aafb98c98",
            "b8b6a2806e844e59b47a58511721aa1d",
            "3e74619c1af3496180d92ae9262bd12e",
            "b34490b6c66143b8913ff565fd70c8c6",
            "3307134b89344708a2b65495c8d712ef",
            "487865a1df3e48a78706f87b7041b25b",
            "d729eecf080347fb94f9d8d92984199e",
            "298379224b3847da82783ed5de766538",
            "dd86362d8f954dcb8f692409854a8fc0",
            "77f4aad2d8f444ad8ea97c4367a2945c",
            "c161fb99be864dfa82890f9a2cf28692",
            "4fba88a07c8e4aa28d32803b56cf8bd9",
            "b556750a458f4b26812842dc46b135a4",
            "45180e78fb3845dd9a94745efa246fdd",
            "3cb38b1238ed4785bb38de30bb4b848b",
            "ccc07b4ee1c64982b96413e38b033187",
            "48be19cea5b84f0d95bf883b42ca3dc4",
            "fcf8c6354f88421b805849dc53fef237",
            "325320dd30c94fc3bb947633a5b73cda",
            "ea676ead336d4800aaf421e088101ac2",
            "75826b9f76344732a50cb8fd37c60106",
            "32368c1d4aa1429081ad056557f7224d",
            "979971e635dd4511a29a36b3f5b514ad",
            "b2bd0385835a4564a4dd3b438af3a05c",
            "7626ffb192834287a104d4cfed8a163c",
            "c0c625e8317d4d5fa8b2673164b4dfc9",
            "35d4b6ae43a54faba96d32e03f89954f"
          ]
        },
        "id": "ngDlClXe-Wxy",
        "outputId": "3c50bc4b-1ff0-470b-f658-4ed7c62ea38e"
      },
      "source": [
        "train_loader = torch.utils.data.DataLoader(\n",
        "  torchvision.datasets.FashionMNIST('/files-fashion/', train=True, download=True,\n",
        "                             transform=torchvision.transforms.Compose([\n",
        "                               torchvision.transforms.ToTensor(),\n",
        "                               torchvision.transforms.Normalize(\n",
        "                                 (0.1307,), (0.3081,))\n",
        "                             ])),\n",
        "  batch_size=batch_size_train, shuffle=True)\n",
        "\n",
        "test_loader = torch.utils.data.DataLoader(\n",
        "  torchvision.datasets.FashionMNIST('/files-fashion/', train=False, download=True,\n",
        "                             transform=torchvision.transforms.Compose([\n",
        "                               torchvision.transforms.ToTensor(),\n",
        "                               torchvision.transforms.Normalize(\n",
        "                                 (0.1307,), (0.3081,))\n",
        "                             ])),\n",
        "  batch_size=batch_size_test, shuffle=True)"
      ],
      "execution_count": null,
      "outputs": [
        {
          "output_type": "stream",
          "text": [
            "Downloading http://fashion-mnist.s3-website.eu-central-1.amazonaws.com/train-images-idx3-ubyte.gz to /files-fashion/FashionMNIST/raw/train-images-idx3-ubyte.gz\n"
          ],
          "name": "stdout"
        },
        {
          "output_type": "display_data",
          "data": {
            "application/vnd.jupyter.widget-view+json": {
              "model_id": "b541458b82224262b5cda7239364b4e1",
              "version_minor": 0,
              "version_major": 2
            },
            "text/plain": [
              "HBox(children=(FloatProgress(value=1.0, bar_style='info', max=1.0), HTML(value='')))"
            ]
          },
          "metadata": {
            "tags": []
          }
        },
        {
          "output_type": "stream",
          "text": [
            "Extracting /files-fashion/FashionMNIST/raw/train-images-idx3-ubyte.gz to /files-fashion/FashionMNIST/raw\n",
            "Downloading http://fashion-mnist.s3-website.eu-central-1.amazonaws.com/train-labels-idx1-ubyte.gz to /files-fashion/FashionMNIST/raw/train-labels-idx1-ubyte.gz\n"
          ],
          "name": "stdout"
        },
        {
          "output_type": "display_data",
          "data": {
            "application/vnd.jupyter.widget-view+json": {
              "model_id": "b34490b6c66143b8913ff565fd70c8c6",
              "version_minor": 0,
              "version_major": 2
            },
            "text/plain": [
              "HBox(children=(FloatProgress(value=1.0, bar_style='info', max=1.0), HTML(value='')))"
            ]
          },
          "metadata": {
            "tags": []
          }
        },
        {
          "output_type": "stream",
          "text": [
            "Extracting /files-fashion/FashionMNIST/raw/train-labels-idx1-ubyte.gz to /files-fashion/FashionMNIST/raw\n",
            "Downloading http://fashion-mnist.s3-website.eu-central-1.amazonaws.com/t10k-images-idx3-ubyte.gz to /files-fashion/FashionMNIST/raw/t10k-images-idx3-ubyte.gz\n",
            "\n",
            "\n"
          ],
          "name": "stdout"
        },
        {
          "output_type": "display_data",
          "data": {
            "application/vnd.jupyter.widget-view+json": {
              "model_id": "4fba88a07c8e4aa28d32803b56cf8bd9",
              "version_minor": 0,
              "version_major": 2
            },
            "text/plain": [
              "HBox(children=(FloatProgress(value=1.0, bar_style='info', max=1.0), HTML(value='')))"
            ]
          },
          "metadata": {
            "tags": []
          }
        },
        {
          "output_type": "stream",
          "text": [
            "Extracting /files-fashion/FashionMNIST/raw/t10k-images-idx3-ubyte.gz to /files-fashion/FashionMNIST/raw\n",
            "Downloading http://fashion-mnist.s3-website.eu-central-1.amazonaws.com/t10k-labels-idx1-ubyte.gz to /files-fashion/FashionMNIST/raw/t10k-labels-idx1-ubyte.gz\n"
          ],
          "name": "stdout"
        },
        {
          "output_type": "display_data",
          "data": {
            "application/vnd.jupyter.widget-view+json": {
              "model_id": "ea676ead336d4800aaf421e088101ac2",
              "version_minor": 0,
              "version_major": 2
            },
            "text/plain": [
              "HBox(children=(FloatProgress(value=1.0, bar_style='info', max=1.0), HTML(value='')))"
            ]
          },
          "metadata": {
            "tags": []
          }
        },
        {
          "output_type": "stream",
          "text": [
            "Extracting /files-fashion/FashionMNIST/raw/t10k-labels-idx1-ubyte.gz to /files-fashion/FashionMNIST/raw\n",
            "Processing...\n",
            "Done!\n"
          ],
          "name": "stdout"
        }
      ]
    },
    {
      "cell_type": "markdown",
      "metadata": {
        "id": "hVWpzCbaAfgb"
      },
      "source": [
        "Algunas imágenes del dataset"
      ]
    },
    {
      "cell_type": "code",
      "metadata": {
        "colab": {
          "base_uri": "https://localhost:8080/",
          "height": 612
        },
        "id": "_7o-mdbaCtLZ",
        "outputId": "e048119c-9113-4f88-f96d-7e43f5c2579d"
      },
      "source": [
        "_, ax = plt.subplots(5, 5, figsize=(10, 10))\n",
        "index = 0\n",
        "examples = enumerate(test_loader)\n",
        "batch_idx, (example_data, example_targets) = next(examples)\n",
        "\n",
        "for i in range(5):\n",
        "    for j in range(5):\n",
        "        cell = ax[i][j]\n",
        "        cell.set_xticks([])\n",
        "        cell.set_yticks([])\n",
        "        cell.grid(False)\n",
        "        cell.imshow(example_data[index][0], cmap='gray')\n",
        "        index += 1\n",
        "        \n",
        "plt.show()"
      ],
      "execution_count": null,
      "outputs": [
        {
          "output_type": "stream",
          "text": [
            "\n",
            "\n"
          ],
          "name": "stdout"
        },
        {
          "output_type": "display_data",
          "data": {
            "image/png": "[encoded data removed]",
            "text/plain": [
              "<Figure size 720x720 with 25 Axes>"
            ]
          },
          "metadata": {
            "tags": []
          }
        }
      ]
    },
    {
      "cell_type": "markdown",
      "metadata": {
        "id": "UKXyff1DAhws"
      },
      "source": [
        "Arquitectura de la red convolucional"
      ]
    },
    {
      "cell_type": "code",
      "metadata": {
        "id": "6tHrUSjyFcO5"
      },
      "source": [
        "class FashionConvNet(nn.Module):\n",
        "    def __init__(self):\n",
        "        super(ConvNet, self).__init__()\n",
        "        self.conv1 = nn.Conv2d(1, 32, kernel_size=3)\n",
        "        self.maxpool1 = nn.MaxPool2d(2)\n",
        "        self.dropout1 = nn.Dropout()\n",
        "\n",
        "        self.conv2 = nn.Conv2d(32, 64, kernel_size=3)\n",
        "        self.maxpool2 = nn.MaxPool2d(2)\n",
        "        self.dropout2 = nn.Dropout()\n",
        "\n",
        "        self.fc1 = nn.Linear(9216, 256)\n",
        "        self.fc2 = nn.Linear(256, 10)\n",
        "\n",
        "    def forward(self, input):\n",
        "        x = F.relu(self.conv1(input))\n",
        "        x = self.maxpool1(x)\n",
        "        x = self.dropout1(x)\n",
        "\n",
        "        x = F.relu(self.conv2(x))\n",
        "        x = self.maxpool2(x)\n",
        "        x = self.dropout2(x)\n",
        "        \n",
        "        x = x.view(x.shape[0], -1)\n",
        "\n",
        "        x = F.relu(self.fc1(x))\n",
        "        x = F.relu(self.fc2(x))\n",
        "\n",
        "        return x"
      ],
      "execution_count": null,
      "outputs": []
    },
    {
      "cell_type": "markdown",
      "metadata": {
        "id": "EnnP1NOdAltc"
      },
      "source": [
        "Instanciación de la red convolucional y loss function"
      ]
    },
    {
      "cell_type": "code",
      "metadata": {
        "id": "3NL3WpuYFfA-"
      },
      "source": [
        "model = ConvNet()\n",
        "model.cuda()\n",
        "criterion = nn.CrossEntropyLoss()\n",
        "optimizer = torch.optim.SGD(model.parameters(), lr=0.01)"
      ],
      "execution_count": null,
      "outputs": []
    },
    {
      "cell_type": "markdown",
      "metadata": {
        "id": "NisbAja-AqkC"
      },
      "source": [
        "Entrenamiento"
      ]
    },
    {
      "cell_type": "code",
      "metadata": {
        "colab": {
          "base_uri": "https://localhost:8080/"
        },
        "id": "RGJN3SmMFyKB",
        "outputId": "37ce636d-2ef4-4473-9ddf-1b9ed278edde"
      },
      "source": [
        "train_losses, val_losses = train(20)"
      ],
      "execution_count": null,
      "outputs": [
        {
          "output_type": "stream",
          "text": [
            "#### TURNING TO TRAINING MODE ####\n",
            "Epoch 1/20.. Train loss: 1.416.. \n",
            "Epoch 1/20.. Train loss: 1.203.. \n",
            "Epoch 1/20.. Train loss: 1.050.. \n",
            "Epoch 1/20.. Train loss: 0.940.. \n",
            "Epoch 1/20.. Train loss: 0.872.. \n",
            "Epoch 1/20.. Train loss: 0.815.. \n",
            "Epoch 1/20.. Train loss: 0.770.. \n",
            "Epoch 1/20.. Train loss: 0.734.. \n",
            "Epoch 1/20.. Train loss: 0.706.. \n",
            "Epoch 1 Train loss 0.697  train accuracy 74.548%\n",
            "#### TURNING TO EVALUATION MODE ####\n",
            "Epoch 1 Train loss 0.447  val accuracy 83.930%\n",
            "#### TURNING TO TRAINING MODE ####\n",
            "Epoch 2/20.. Train loss: 0.435.. \n",
            "Epoch 2/20.. Train loss: 0.435.. \n",
            "Epoch 2/20.. Train loss: 0.435.. \n",
            "Epoch 2/20.. Train loss: 0.426.. \n",
            "Epoch 2/20.. Train loss: 0.420.. \n",
            "Epoch 2/20.. Train loss: 0.413.. \n",
            "Epoch 2/20.. Train loss: 0.412.. \n",
            "Epoch 2/20.. Train loss: 0.411.. \n",
            "Epoch 2/20.. Train loss: 0.408.. \n",
            "Epoch 2 Train loss 0.406  train accuracy 85.393%\n",
            "#### TURNING TO EVALUATION MODE ####\n",
            "Epoch 2 Train loss 0.373  val accuracy 86.460%\n",
            "#### TURNING TO TRAINING MODE ####\n",
            "Epoch 3/20.. Train loss: 0.377.. \n",
            "Epoch 3/20.. Train loss: 0.381.. \n",
            "Epoch 3/20.. Train loss: 0.371.. \n",
            "Epoch 3/20.. Train loss: 0.369.. \n",
            "Epoch 3/20.. Train loss: 0.365.. \n",
            "Epoch 3/20.. Train loss: 0.362.. \n",
            "Epoch 3/20.. Train loss: 0.357.. \n",
            "Epoch 3/20.. Train loss: 0.354.. \n",
            "Epoch 3/20.. Train loss: 0.351.. \n",
            "Epoch 3 Train loss 0.350  train accuracy 87.237%\n",
            "#### TURNING TO EVALUATION MODE ####\n",
            "Epoch 3 Train loss 0.332  val accuracy 87.900%\n",
            "#### TURNING TO TRAINING MODE ####\n",
            "Epoch 4/20.. Train loss: 0.317.. \n",
            "Epoch 4/20.. Train loss: 0.316.. \n",
            "Epoch 4/20.. Train loss: 0.317.. \n",
            "Epoch 4/20.. Train loss: 0.319.. \n",
            "Epoch 4/20.. Train loss: 0.320.. \n",
            "Epoch 4/20.. Train loss: 0.319.. \n",
            "Epoch 4/20.. Train loss: 0.319.. \n",
            "Epoch 4/20.. Train loss: 0.319.. \n",
            "Epoch 4/20.. Train loss: 0.318.. \n",
            "Epoch 4 Train loss 0.318  train accuracy 88.420%\n",
            "#### TURNING TO EVALUATION MODE ####\n",
            "Epoch 4 Train loss 0.305  val accuracy 89.030%\n",
            "#### TURNING TO TRAINING MODE ####\n",
            "Epoch 5/20.. Train loss: 0.295.. \n",
            "Epoch 5/20.. Train loss: 0.297.. \n",
            "Epoch 5/20.. Train loss: 0.295.. \n",
            "Epoch 5/20.. Train loss: 0.296.. \n",
            "Epoch 5/20.. Train loss: 0.293.. \n",
            "Epoch 5/20.. Train loss: 0.292.. \n",
            "Epoch 5/20.. Train loss: 0.293.. \n",
            "Epoch 5/20.. Train loss: 0.293.. \n",
            "Epoch 5/20.. Train loss: 0.292.. \n",
            "Epoch 5 Train loss 0.292  train accuracy 89.353%\n",
            "#### TURNING TO EVALUATION MODE ####\n",
            "Epoch 5 Train loss 0.304  val accuracy 88.710%\n",
            "#### TURNING TO TRAINING MODE ####\n",
            "Epoch 6/20.. Train loss: 0.277.. \n",
            "Epoch 6/20.. Train loss: 0.280.. \n",
            "Epoch 6/20.. Train loss: 0.278.. \n",
            "Epoch 6/20.. Train loss: 0.274.. \n",
            "Epoch 6/20.. Train loss: 0.274.. \n",
            "Epoch 6/20.. Train loss: 0.271.. \n",
            "Epoch 6/20.. Train loss: 0.272.. \n",
            "Epoch 6/20.. Train loss: 0.274.. \n",
            "Epoch 6/20.. Train loss: 0.273.. \n",
            "Epoch 6 Train loss 0.274  train accuracy 89.883%\n",
            "#### TURNING TO EVALUATION MODE ####\n",
            "Epoch 6 Train loss 0.280  val accuracy 89.690%\n",
            "#### TURNING TO TRAINING MODE ####\n",
            "Epoch 7/20.. Train loss: 0.263.. \n",
            "Epoch 7/20.. Train loss: 0.267.. \n",
            "Epoch 7/20.. Train loss: 0.265.. \n",
            "Epoch 7/20.. Train loss: 0.262.. \n",
            "Epoch 7/20.. Train loss: 0.261.. \n",
            "Epoch 7/20.. Train loss: 0.259.. \n",
            "Epoch 7/20.. Train loss: 0.260.. \n",
            "Epoch 7/20.. Train loss: 0.258.. \n",
            "Epoch 7/20.. Train loss: 0.257.. \n",
            "Epoch 7 Train loss 0.257  train accuracy 90.517%\n",
            "#### TURNING TO EVALUATION MODE ####\n",
            "Epoch 7 Train loss 0.274  val accuracy 89.950%\n",
            "#### TURNING TO TRAINING MODE ####\n",
            "Epoch 8/20.. Train loss: 0.248.. \n",
            "Epoch 8/20.. Train loss: 0.242.. \n",
            "Epoch 8/20.. Train loss: 0.243.. \n",
            "Epoch 8/20.. Train loss: 0.245.. \n",
            "Epoch 8/20.. Train loss: 0.246.. \n",
            "Epoch 8/20.. Train loss: 0.243.. \n",
            "Epoch 8/20.. Train loss: 0.244.. \n",
            "Epoch 8/20.. Train loss: 0.245.. \n",
            "Epoch 8/20.. Train loss: 0.245.. \n",
            "Epoch 8 Train loss 0.244  train accuracy 91.023%\n",
            "#### TURNING TO EVALUATION MODE ####\n",
            "Epoch 8 Train loss 0.261  val accuracy 90.480%\n",
            "#### TURNING TO TRAINING MODE ####\n",
            "Epoch 9/20.. Train loss: 0.226.. \n",
            "Epoch 9/20.. Train loss: 0.237.. \n",
            "Epoch 9/20.. Train loss: 0.235.. \n",
            "Epoch 9/20.. Train loss: 0.233.. \n",
            "Epoch 9/20.. Train loss: 0.234.. \n",
            "Epoch 9/20.. Train loss: 0.235.. \n",
            "Epoch 9/20.. Train loss: 0.233.. \n",
            "Epoch 9/20.. Train loss: 0.232.. \n",
            "Epoch 9/20.. Train loss: 0.231.. \n",
            "Epoch 9 Train loss 0.231  train accuracy 91.417%\n",
            "#### TURNING TO EVALUATION MODE ####\n",
            "Epoch 9 Train loss 0.257  val accuracy 90.550%\n",
            "#### TURNING TO TRAINING MODE ####\n",
            "Epoch 10/20.. Train loss: 0.225.. \n",
            "Epoch 10/20.. Train loss: 0.220.. \n",
            "Epoch 10/20.. Train loss: 0.221.. \n",
            "Epoch 10/20.. Train loss: 0.218.. \n",
            "Epoch 10/20.. Train loss: 0.218.. \n",
            "Epoch 10/20.. Train loss: 0.218.. \n",
            "Epoch 10/20.. Train loss: 0.218.. \n",
            "Epoch 10/20.. Train loss: 0.218.. \n",
            "Epoch 10/20.. Train loss: 0.218.. \n",
            "Epoch 10 Train loss 0.218  train accuracy 91.858%\n",
            "#### TURNING TO EVALUATION MODE ####\n",
            "Epoch 10 Train loss 0.245  val accuracy 90.760%\n",
            "#### TURNING TO TRAINING MODE ####\n",
            "Epoch 11/20.. Train loss: 0.202.. \n",
            "Epoch 11/20.. Train loss: 0.209.. \n",
            "Epoch 11/20.. Train loss: 0.209.. \n",
            "Epoch 11/20.. Train loss: 0.209.. \n",
            "Epoch 11/20.. Train loss: 0.207.. \n",
            "Epoch 11/20.. Train loss: 0.209.. \n",
            "Epoch 11/20.. Train loss: 0.211.. \n",
            "Epoch 11/20.. Train loss: 0.211.. \n",
            "Epoch 11/20.. Train loss: 0.210.. \n",
            "Epoch 11 Train loss 0.210  train accuracy 92.170%\n",
            "#### TURNING TO EVALUATION MODE ####\n",
            "Epoch 11 Train loss 0.254  val accuracy 90.660%\n",
            "#### TURNING TO TRAINING MODE ####\n",
            "Epoch 12/20.. Train loss: 0.193.. \n",
            "Epoch 12/20.. Train loss: 0.198.. \n",
            "Epoch 12/20.. Train loss: 0.199.. \n",
            "Epoch 12/20.. Train loss: 0.200.. \n",
            "Epoch 12/20.. Train loss: 0.198.. \n",
            "Epoch 12/20.. Train loss: 0.196.. \n",
            "Epoch 12/20.. Train loss: 0.197.. \n",
            "Epoch 12/20.. Train loss: 0.199.. \n",
            "Epoch 12/20.. Train loss: 0.198.. \n",
            "Epoch 12 Train loss 0.198  train accuracy 92.728%\n",
            "#### TURNING TO EVALUATION MODE ####\n",
            "Epoch 12 Train loss 0.237  val accuracy 91.470%\n",
            "#### TURNING TO TRAINING MODE ####\n",
            "Epoch 13/20.. Train loss: 0.194.. \n",
            "Epoch 13/20.. Train loss: 0.193.. \n",
            "Epoch 13/20.. Train loss: 0.193.. \n",
            "Epoch 13/20.. Train loss: 0.190.. \n",
            "Epoch 13/20.. Train loss: 0.191.. \n",
            "Epoch 13/20.. Train loss: 0.189.. \n",
            "Epoch 13/20.. Train loss: 0.189.. \n",
            "Epoch 13/20.. Train loss: 0.189.. \n",
            "Epoch 13/20.. Train loss: 0.189.. \n",
            "Epoch 13 Train loss 0.189  train accuracy 93.008%\n",
            "#### TURNING TO EVALUATION MODE ####\n",
            "Epoch 13 Train loss 0.235  val accuracy 91.590%\n",
            "#### TURNING TO TRAINING MODE ####\n",
            "Epoch 14/20.. Train loss: 0.169.. \n",
            "Epoch 14/20.. Train loss: 0.182.. \n",
            "Epoch 14/20.. Train loss: 0.184.. \n",
            "Epoch 14/20.. Train loss: 0.183.. \n",
            "Epoch 14/20.. Train loss: 0.181.. \n",
            "Epoch 14/20.. Train loss: 0.181.. \n",
            "Epoch 14/20.. Train loss: 0.181.. \n",
            "Epoch 14/20.. Train loss: 0.181.. \n",
            "Epoch 14/20.. Train loss: 0.182.. \n",
            "Epoch 14 Train loss 0.182  train accuracy 93.243%\n",
            "#### TURNING TO EVALUATION MODE ####\n",
            "Epoch 14 Train loss 0.233  val accuracy 91.550%\n",
            "#### TURNING TO TRAINING MODE ####\n",
            "Epoch 15/20.. Train loss: 0.168.. \n",
            "Epoch 15/20.. Train loss: 0.165.. \n",
            "Epoch 15/20.. Train loss: 0.167.. \n",
            "Epoch 15/20.. Train loss: 0.171.. \n",
            "Epoch 15/20.. Train loss: 0.172.. \n",
            "Epoch 15/20.. Train loss: 0.171.. \n",
            "Epoch 15/20.. Train loss: 0.172.. \n",
            "Epoch 15/20.. Train loss: 0.172.. \n",
            "Epoch 15/20.. Train loss: 0.173.. \n",
            "Epoch 15 Train loss 0.173  train accuracy 93.528%\n",
            "#### TURNING TO EVALUATION MODE ####\n",
            "Epoch 15 Train loss 0.229  val accuracy 91.960%\n",
            "#### TURNING TO TRAINING MODE ####\n",
            "Epoch 16/20.. Train loss: 0.150.. \n",
            "Epoch 16/20.. Train loss: 0.158.. \n",
            "Epoch 16/20.. Train loss: 0.158.. \n",
            "Epoch 16/20.. Train loss: 0.160.. \n",
            "Epoch 16/20.. Train loss: 0.162.. \n",
            "Epoch 16/20.. Train loss: 0.163.. \n",
            "Epoch 16/20.. Train loss: 0.161.. \n",
            "Epoch 16/20.. Train loss: 0.162.. \n",
            "Epoch 16/20.. Train loss: 0.162.. \n",
            "Epoch 16 Train loss 0.163  train accuracy 94.002%\n",
            "#### TURNING TO EVALUATION MODE ####\n",
            "Epoch 16 Train loss 0.227  val accuracy 91.730%\n",
            "#### TURNING TO TRAINING MODE ####\n",
            "Epoch 17/20.. Train loss: 0.150.. \n",
            "Epoch 17/20.. Train loss: 0.154.. \n",
            "Epoch 17/20.. Train loss: 0.153.. \n",
            "Epoch 17/20.. Train loss: 0.153.. \n",
            "Epoch 17/20.. Train loss: 0.155.. \n",
            "Epoch 17/20.. Train loss: 0.156.. \n",
            "Epoch 17/20.. Train loss: 0.156.. \n",
            "Epoch 17/20.. Train loss: 0.157.. \n",
            "Epoch 17/20.. Train loss: 0.158.. \n",
            "Epoch 17 Train loss 0.157  train accuracy 94.295%\n",
            "#### TURNING TO EVALUATION MODE ####\n",
            "Epoch 17 Train loss 0.225  val accuracy 92.220%\n",
            "#### TURNING TO TRAINING MODE ####\n",
            "Epoch 18/20.. Train loss: 0.146.. \n",
            "Epoch 18/20.. Train loss: 0.154.. \n",
            "Epoch 18/20.. Train loss: 0.151.. \n",
            "Epoch 18/20.. Train loss: 0.150.. \n",
            "Epoch 18/20.. Train loss: 0.151.. \n",
            "Epoch 18/20.. Train loss: 0.150.. \n",
            "Epoch 18/20.. Train loss: 0.149.. \n",
            "Epoch 18/20.. Train loss: 0.149.. \n",
            "Epoch 18/20.. Train loss: 0.150.. \n",
            "Epoch 18 Train loss 0.150  train accuracy 94.422%\n",
            "#### TURNING TO EVALUATION MODE ####\n",
            "Epoch 18 Train loss 0.234  val accuracy 91.640%\n",
            "#### TURNING TO TRAINING MODE ####\n",
            "Epoch 19/20.. Train loss: 0.141.. \n",
            "Epoch 19/20.. Train loss: 0.145.. \n",
            "Epoch 19/20.. Train loss: 0.141.. \n",
            "Epoch 19/20.. Train loss: 0.143.. \n",
            "Epoch 19/20.. Train loss: 0.142.. \n",
            "Epoch 19/20.. Train loss: 0.142.. \n",
            "Epoch 19/20.. Train loss: 0.142.. \n",
            "Epoch 19/20.. Train loss: 0.144.. \n",
            "Epoch 19/20.. Train loss: 0.143.. \n",
            "Epoch 19 Train loss 0.144  train accuracy 94.712%\n",
            "#### TURNING TO EVALUATION MODE ####\n",
            "Epoch 19 Train loss 0.221  val accuracy 92.610%\n",
            "#### TURNING TO TRAINING MODE ####\n",
            "Epoch 20/20.. Train loss: 0.139.. \n",
            "Epoch 20/20.. Train loss: 0.132.. \n",
            "Epoch 20/20.. Train loss: 0.135.. \n",
            "Epoch 20/20.. Train loss: 0.138.. \n",
            "Epoch 20/20.. Train loss: 0.138.. \n",
            "Epoch 20/20.. Train loss: 0.138.. \n",
            "Epoch 20/20.. Train loss: 0.138.. \n",
            "Epoch 20/20.. Train loss: 0.138.. \n",
            "Epoch 20/20.. Train loss: 0.137.. \n",
            "Epoch 20 Train loss 0.138  train accuracy 94.848%\n",
            "#### TURNING TO EVALUATION MODE ####\n",
            "Epoch 20 Train loss 0.226  val accuracy 92.320%\n"
          ],
          "name": "stdout"
        }
      ]
    },
    {
      "cell_type": "code",
      "metadata": {
        "colab": {
          "base_uri": "https://localhost:8080/",
          "height": 592
        },
        "id": "QFBzmr2LH1ki",
        "outputId": "5ffe12cb-06a9-46fa-b96d-959df7aae8b1"
      },
      "source": [
        "plot_loss(train_losses, val_losses)"
      ],
      "execution_count": null,
      "outputs": [
        {
          "output_type": "display_data",
          "data": {
            "image/png": "[encoded data removed]",
            "text/plain": [
              "<Figure size 720x720 with 1 Axes>"
            ]
          },
          "metadata": {
            "tags": [],
            "needs_background": "light"
          }
        }
      ]
    },
    {
      "cell_type": "markdown",
      "metadata": {
        "id": "1W3N1PGHAtjA"
      },
      "source": [
        "Clasificación"
      ]
    },
    {
      "cell_type": "code",
      "metadata": {
        "colab": {
          "base_uri": "https://localhost:8080/",
          "height": 1000
        },
        "id": "wo6R5gStgms2",
        "outputId": "7ee44b55-067f-4e8b-9a92-11a0747a6108"
      },
      "source": [
        "classes = ['Polera', 'Pantalón', 'Chompa', 'Vestido', 'Chaqueta', 'Sandalias', 'Camisa', 'Tenis', 'Bolsa', 'Bota']\n",
        "examples = enumerate(test_loader)\n",
        "batch_idx, (example_data, example_targets) = next(examples)\n",
        "\n",
        "for i in range(10):\n",
        "    classify(classes, example_data, i)"
      ],
      "execution_count": null,
      "outputs": [
        {
          "output_type": "display_data",
          "data": {
            "image/png": "[encoded data removed]",
            "text/plain": [
              "<Figure size 720x360 with 2 Axes>"
            ]
          },
          "metadata": {
            "tags": [],
            "needs_background": "light"
          }
        },
        {
          "output_type": "display_data",
          "data": {
            "image/png": "[encoded data removed]",
            "text/plain": [
              "<Figure size 720x360 with 2 Axes>"
            ]
          },
          "metadata": {
            "tags": [],
            "needs_background": "light"
          }
        },
        {
          "output_type": "display_data",
          "data": {
            "image/png": "[encoded data removed]",
            "text/plain": [
              "<Figure size 720x360 with 2 Axes>"
            ]
          },
          "metadata": {
            "tags": [],
            "needs_background": "light"
          }
        },
        {
          "output_type": "display_data",
          "data": {
            "image/png": "[encoded data removed]",
            "text/plain": [
              "<Figure size 720x360 with 2 Axes>"
            ]
          },
          "metadata": {
            "tags": [],
            "needs_background": "light"
          }
        },
        {
          "output_type": "display_data",
          "data": {
            "image/png": "[encoded data removed]",
            "text/plain": [
              "<Figure size 720x360 with 2 Axes>"
            ]
          },
          "metadata": {
            "tags": [],
            "needs_background": "light"
          }
        },
        {
          "output_type": "display_data",
          "data": {
            "image/png": "[encoded data removed]",
            "text/plain": [
              "<Figure size 720x360 with 2 Axes>"
            ]
          },
          "metadata": {
            "tags": [],
            "needs_background": "light"
          }
        },
        {
          "output_type": "display_data",
          "data": {
            "image/png": "[encoded data removed]",
            "text/plain": [
              "<Figure size 720x360 with 2 Axes>"
            ]
          },
          "metadata": {
            "tags": [],
            "needs_background": "light"
          }
        },
        {
          "output_type": "display_data",
          "data": {
            "image/png": "[encoded data removed]",
            "text/plain": [
              "<Figure size 720x360 with 2 Axes>"
            ]
          },
          "metadata": {
            "tags": [],
            "needs_background": "light"
          }
        },
        {
          "output_type": "display_data",
          "data": {
            "image/png": "[encoded data removed]",
            "text/plain": [
              "<Figure size 720x360 with 2 Axes>"
            ]
          },
          "metadata": {
            "tags": [],
            "needs_background": "light"
          }
        },
        {
          "output_type": "display_data",
          "data": {
            "image/png": "[encoded data removed]",
            "text/plain": [
              "<Figure size 720x360 with 2 Axes>"
            ]
          },
          "metadata": {
            "tags": [],
            "needs_background": "light"
          }
        }
      ]
    }
  ]
}